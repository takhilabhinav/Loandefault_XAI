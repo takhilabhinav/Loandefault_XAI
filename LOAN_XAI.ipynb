{
  "nbformat": 4,
  "nbformat_minor": 0,
  "metadata": {
    "colab": {
      "name": "LOAN_XAI.ipynb",
      "provenance": [],
      "authorship_tag": "ABX9TyODvGN0jOGU+bL/MxXXoPmY",
      "include_colab_link": true
    },
    "kernelspec": {
      "name": "python3",
      "display_name": "Python 3"
    }
  },
  "cells": [
    {
      "cell_type": "markdown",
      "metadata": {
        "id": "view-in-github",
        "colab_type": "text"
      },
      "source": [
        "<a href=\"https://colab.research.google.com/github/takhilabhinav/Loandefault_XAI/blob/main/LOAN_XAI.ipynb\" target=\"_parent\"><img src=\"https://colab.research.google.com/assets/colab-badge.svg\" alt=\"Open In Colab\"/></a>"
      ]
    },
    {
      "cell_type": "code",
      "metadata": {
        "id": "AnM00lzorvPG"
      },
      "source": [
        "!pip install -U -q PyDrive\n",
        "from pydrive.auth import GoogleAuth\n",
        "from pydrive.drive import GoogleDrive\n",
        "from google.colab import auth\n",
        "from oauth2client.client import GoogleCredentials\n",
        "# Authenticate and create the PyDrive client.\n",
        "auth.authenticate_user()\n",
        "gauth = GoogleAuth()\n",
        "gauth.credentials = GoogleCredentials.get_application_default()\n",
        "drive = GoogleDrive(gauth)"
      ],
      "execution_count": 2,
      "outputs": []
    },
    {
      "cell_type": "code",
      "metadata": {
        "colab": {
          "base_uri": "https://localhost:8080/"
        },
        "id": "r9slhwpUsj21",
        "outputId": "469eb424-3b57-40ae-9bb6-19348757e75e"
      },
      "source": [
        "link=\"https://drive.google.com/file/d/1V5hdf7zVNnSDbVXz9qiYIKiWVBGHvZmW/\"\n",
        "id = link.split(\"/\")[-2] \n",
        "print (id) # Verify that you have everything after '='"
      ],
      "execution_count": 3,
      "outputs": [
        {
          "output_type": "stream",
          "text": [
            "1V5hdf7zVNnSDbVXz9qiYIKiWVBGHvZmW\n"
          ],
          "name": "stdout"
        }
      ]
    },
    {
      "cell_type": "code",
      "metadata": {
        "id": "eTqXfcCFuHRL"
      },
      "source": [
        "downloaded = drive.CreateFile({'id':id}) \n",
        "downloaded.GetContentFile('lending_club_loan_two.csv')"
      ],
      "execution_count": 4,
      "outputs": []
    },
    {
      "cell_type": "code",
      "metadata": {
        "id": "-4heFUBduWKg"
      },
      "source": [
        "import pandas as pd\n"
      ],
      "execution_count": 5,
      "outputs": []
    },
    {
      "cell_type": "code",
      "metadata": {
        "id": "wi-HWBRFuZk8"
      },
      "source": [
        "data=pd.read_csv('lending_club_loan_two.csv')"
      ],
      "execution_count": 6,
      "outputs": []
    },
    {
      "cell_type": "code",
      "metadata": {
        "colab": {
          "base_uri": "https://localhost:8080/",
          "height": 394
        },
        "id": "tOf_fIVwut48",
        "outputId": "5ca4cab9-5463-44d0-a3a5-8955b4d39eb4"
      },
      "source": [
        "data.head()"
      ],
      "execution_count": 7,
      "outputs": [
        {
          "output_type": "execute_result",
          "data": {
            "text/html": [
              "<div>\n",
              "<style scoped>\n",
              "    .dataframe tbody tr th:only-of-type {\n",
              "        vertical-align: middle;\n",
              "    }\n",
              "\n",
              "    .dataframe tbody tr th {\n",
              "        vertical-align: top;\n",
              "    }\n",
              "\n",
              "    .dataframe thead th {\n",
              "        text-align: right;\n",
              "    }\n",
              "</style>\n",
              "<table border=\"1\" class=\"dataframe\">\n",
              "  <thead>\n",
              "    <tr style=\"text-align: right;\">\n",
              "      <th></th>\n",
              "      <th>loan_amnt</th>\n",
              "      <th>term</th>\n",
              "      <th>int_rate</th>\n",
              "      <th>installment</th>\n",
              "      <th>grade</th>\n",
              "      <th>sub_grade</th>\n",
              "      <th>emp_title</th>\n",
              "      <th>emp_length</th>\n",
              "      <th>home_ownership</th>\n",
              "      <th>annual_inc</th>\n",
              "      <th>verification_status</th>\n",
              "      <th>issue_d</th>\n",
              "      <th>loan_status</th>\n",
              "      <th>purpose</th>\n",
              "      <th>title</th>\n",
              "      <th>dti</th>\n",
              "      <th>earliest_cr_line</th>\n",
              "      <th>open_acc</th>\n",
              "      <th>pub_rec</th>\n",
              "      <th>revol_bal</th>\n",
              "      <th>revol_util</th>\n",
              "      <th>total_acc</th>\n",
              "      <th>initial_list_status</th>\n",
              "      <th>application_type</th>\n",
              "      <th>mort_acc</th>\n",
              "      <th>pub_rec_bankruptcies</th>\n",
              "      <th>address</th>\n",
              "    </tr>\n",
              "  </thead>\n",
              "  <tbody>\n",
              "    <tr>\n",
              "      <th>0</th>\n",
              "      <td>10000.0</td>\n",
              "      <td>36 months</td>\n",
              "      <td>11.44</td>\n",
              "      <td>329.48</td>\n",
              "      <td>B</td>\n",
              "      <td>B4</td>\n",
              "      <td>Marketing</td>\n",
              "      <td>10+ years</td>\n",
              "      <td>RENT</td>\n",
              "      <td>117000.0</td>\n",
              "      <td>Not Verified</td>\n",
              "      <td>Jan-2015</td>\n",
              "      <td>Fully Paid</td>\n",
              "      <td>vacation</td>\n",
              "      <td>Vacation</td>\n",
              "      <td>26.24</td>\n",
              "      <td>Jun-1990</td>\n",
              "      <td>16.0</td>\n",
              "      <td>0.0</td>\n",
              "      <td>36369.0</td>\n",
              "      <td>41.8</td>\n",
              "      <td>25.0</td>\n",
              "      <td>w</td>\n",
              "      <td>INDIVIDUAL</td>\n",
              "      <td>0.0</td>\n",
              "      <td>0.0</td>\n",
              "      <td>0174 Michelle Gateway\\r\\nMendozaberg, OK 22690</td>\n",
              "    </tr>\n",
              "    <tr>\n",
              "      <th>1</th>\n",
              "      <td>8000.0</td>\n",
              "      <td>36 months</td>\n",
              "      <td>11.99</td>\n",
              "      <td>265.68</td>\n",
              "      <td>B</td>\n",
              "      <td>B5</td>\n",
              "      <td>Credit analyst</td>\n",
              "      <td>4 years</td>\n",
              "      <td>MORTGAGE</td>\n",
              "      <td>65000.0</td>\n",
              "      <td>Not Verified</td>\n",
              "      <td>Jan-2015</td>\n",
              "      <td>Fully Paid</td>\n",
              "      <td>debt_consolidation</td>\n",
              "      <td>Debt consolidation</td>\n",
              "      <td>22.05</td>\n",
              "      <td>Jul-2004</td>\n",
              "      <td>17.0</td>\n",
              "      <td>0.0</td>\n",
              "      <td>20131.0</td>\n",
              "      <td>53.3</td>\n",
              "      <td>27.0</td>\n",
              "      <td>f</td>\n",
              "      <td>INDIVIDUAL</td>\n",
              "      <td>3.0</td>\n",
              "      <td>0.0</td>\n",
              "      <td>1076 Carney Fort Apt. 347\\r\\nLoganmouth, SD 05113</td>\n",
              "    </tr>\n",
              "    <tr>\n",
              "      <th>2</th>\n",
              "      <td>15600.0</td>\n",
              "      <td>36 months</td>\n",
              "      <td>10.49</td>\n",
              "      <td>506.97</td>\n",
              "      <td>B</td>\n",
              "      <td>B3</td>\n",
              "      <td>Statistician</td>\n",
              "      <td>&lt; 1 year</td>\n",
              "      <td>RENT</td>\n",
              "      <td>43057.0</td>\n",
              "      <td>Source Verified</td>\n",
              "      <td>Jan-2015</td>\n",
              "      <td>Fully Paid</td>\n",
              "      <td>credit_card</td>\n",
              "      <td>Credit card refinancing</td>\n",
              "      <td>12.79</td>\n",
              "      <td>Aug-2007</td>\n",
              "      <td>13.0</td>\n",
              "      <td>0.0</td>\n",
              "      <td>11987.0</td>\n",
              "      <td>92.2</td>\n",
              "      <td>26.0</td>\n",
              "      <td>f</td>\n",
              "      <td>INDIVIDUAL</td>\n",
              "      <td>0.0</td>\n",
              "      <td>0.0</td>\n",
              "      <td>87025 Mark Dale Apt. 269\\r\\nNew Sabrina, WV 05113</td>\n",
              "    </tr>\n",
              "    <tr>\n",
              "      <th>3</th>\n",
              "      <td>7200.0</td>\n",
              "      <td>36 months</td>\n",
              "      <td>6.49</td>\n",
              "      <td>220.65</td>\n",
              "      <td>A</td>\n",
              "      <td>A2</td>\n",
              "      <td>Client Advocate</td>\n",
              "      <td>6 years</td>\n",
              "      <td>RENT</td>\n",
              "      <td>54000.0</td>\n",
              "      <td>Not Verified</td>\n",
              "      <td>Nov-2014</td>\n",
              "      <td>Fully Paid</td>\n",
              "      <td>credit_card</td>\n",
              "      <td>Credit card refinancing</td>\n",
              "      <td>2.60</td>\n",
              "      <td>Sep-2006</td>\n",
              "      <td>6.0</td>\n",
              "      <td>0.0</td>\n",
              "      <td>5472.0</td>\n",
              "      <td>21.5</td>\n",
              "      <td>13.0</td>\n",
              "      <td>f</td>\n",
              "      <td>INDIVIDUAL</td>\n",
              "      <td>0.0</td>\n",
              "      <td>0.0</td>\n",
              "      <td>823 Reid Ford\\r\\nDelacruzside, MA 00813</td>\n",
              "    </tr>\n",
              "    <tr>\n",
              "      <th>4</th>\n",
              "      <td>24375.0</td>\n",
              "      <td>60 months</td>\n",
              "      <td>17.27</td>\n",
              "      <td>609.33</td>\n",
              "      <td>C</td>\n",
              "      <td>C5</td>\n",
              "      <td>Destiny Management Inc.</td>\n",
              "      <td>9 years</td>\n",
              "      <td>MORTGAGE</td>\n",
              "      <td>55000.0</td>\n",
              "      <td>Verified</td>\n",
              "      <td>Apr-2013</td>\n",
              "      <td>Charged Off</td>\n",
              "      <td>credit_card</td>\n",
              "      <td>Credit Card Refinance</td>\n",
              "      <td>33.95</td>\n",
              "      <td>Mar-1999</td>\n",
              "      <td>13.0</td>\n",
              "      <td>0.0</td>\n",
              "      <td>24584.0</td>\n",
              "      <td>69.8</td>\n",
              "      <td>43.0</td>\n",
              "      <td>f</td>\n",
              "      <td>INDIVIDUAL</td>\n",
              "      <td>1.0</td>\n",
              "      <td>0.0</td>\n",
              "      <td>679 Luna Roads\\r\\nGreggshire, VA 11650</td>\n",
              "    </tr>\n",
              "  </tbody>\n",
              "</table>\n",
              "</div>"
            ],
            "text/plain": [
              "   loan_amnt  ...                                            address\n",
              "0    10000.0  ...     0174 Michelle Gateway\\r\\nMendozaberg, OK 22690\n",
              "1     8000.0  ...  1076 Carney Fort Apt. 347\\r\\nLoganmouth, SD 05113\n",
              "2    15600.0  ...  87025 Mark Dale Apt. 269\\r\\nNew Sabrina, WV 05113\n",
              "3     7200.0  ...            823 Reid Ford\\r\\nDelacruzside, MA 00813\n",
              "4    24375.0  ...             679 Luna Roads\\r\\nGreggshire, VA 11650\n",
              "\n",
              "[5 rows x 27 columns]"
            ]
          },
          "metadata": {
            "tags": []
          },
          "execution_count": 7
        }
      ]
    },
    {
      "cell_type": "code",
      "metadata": {
        "id": "TKdvts6Zu1yl"
      },
      "source": [
        "import numpy as np\n",
        "import seaborn as sns\n",
        "import matplotlib.pyplot as plt\n",
        "\n",
        "plt.style.use(\"fivethirtyeight\")\n",
        "sns.set_style('whitegrid')\n",
        "%matplotlib inline\n",
        "\n",
        "pd.set_option('display.float', '{:.2f}'.format)\n",
        "pd.set_option('display.max_columns', 50)\n",
        "pd.set_option('display.max_rows', 50)"
      ],
      "execution_count": 8,
      "outputs": []
    },
    {
      "cell_type": "code",
      "metadata": {
        "colab": {
          "base_uri": "https://localhost:8080/",
          "height": 297
        },
        "id": "_cgT3qTYu4n1",
        "outputId": "08146345-4514-465c-ed05-12a031b439cc"
      },
      "source": [
        "data.describe()\n"
      ],
      "execution_count": 9,
      "outputs": [
        {
          "output_type": "execute_result",
          "data": {
            "text/html": [
              "<div>\n",
              "<style scoped>\n",
              "    .dataframe tbody tr th:only-of-type {\n",
              "        vertical-align: middle;\n",
              "    }\n",
              "\n",
              "    .dataframe tbody tr th {\n",
              "        vertical-align: top;\n",
              "    }\n",
              "\n",
              "    .dataframe thead th {\n",
              "        text-align: right;\n",
              "    }\n",
              "</style>\n",
              "<table border=\"1\" class=\"dataframe\">\n",
              "  <thead>\n",
              "    <tr style=\"text-align: right;\">\n",
              "      <th></th>\n",
              "      <th>loan_amnt</th>\n",
              "      <th>int_rate</th>\n",
              "      <th>installment</th>\n",
              "      <th>annual_inc</th>\n",
              "      <th>dti</th>\n",
              "      <th>open_acc</th>\n",
              "      <th>pub_rec</th>\n",
              "      <th>revol_bal</th>\n",
              "      <th>revol_util</th>\n",
              "      <th>total_acc</th>\n",
              "      <th>mort_acc</th>\n",
              "      <th>pub_rec_bankruptcies</th>\n",
              "    </tr>\n",
              "  </thead>\n",
              "  <tbody>\n",
              "    <tr>\n",
              "      <th>count</th>\n",
              "      <td>396030.00</td>\n",
              "      <td>396030.00</td>\n",
              "      <td>396030.00</td>\n",
              "      <td>396030.00</td>\n",
              "      <td>396030.00</td>\n",
              "      <td>396030.00</td>\n",
              "      <td>396030.00</td>\n",
              "      <td>396030.00</td>\n",
              "      <td>395754.00</td>\n",
              "      <td>396030.00</td>\n",
              "      <td>358235.00</td>\n",
              "      <td>395495.00</td>\n",
              "    </tr>\n",
              "    <tr>\n",
              "      <th>mean</th>\n",
              "      <td>14113.89</td>\n",
              "      <td>13.64</td>\n",
              "      <td>431.85</td>\n",
              "      <td>74203.18</td>\n",
              "      <td>17.38</td>\n",
              "      <td>11.31</td>\n",
              "      <td>0.18</td>\n",
              "      <td>15844.54</td>\n",
              "      <td>53.79</td>\n",
              "      <td>25.41</td>\n",
              "      <td>1.81</td>\n",
              "      <td>0.12</td>\n",
              "    </tr>\n",
              "    <tr>\n",
              "      <th>std</th>\n",
              "      <td>8357.44</td>\n",
              "      <td>4.47</td>\n",
              "      <td>250.73</td>\n",
              "      <td>61637.62</td>\n",
              "      <td>18.02</td>\n",
              "      <td>5.14</td>\n",
              "      <td>0.53</td>\n",
              "      <td>20591.84</td>\n",
              "      <td>24.45</td>\n",
              "      <td>11.89</td>\n",
              "      <td>2.15</td>\n",
              "      <td>0.36</td>\n",
              "    </tr>\n",
              "    <tr>\n",
              "      <th>min</th>\n",
              "      <td>500.00</td>\n",
              "      <td>5.32</td>\n",
              "      <td>16.08</td>\n",
              "      <td>0.00</td>\n",
              "      <td>0.00</td>\n",
              "      <td>0.00</td>\n",
              "      <td>0.00</td>\n",
              "      <td>0.00</td>\n",
              "      <td>0.00</td>\n",
              "      <td>2.00</td>\n",
              "      <td>0.00</td>\n",
              "      <td>0.00</td>\n",
              "    </tr>\n",
              "    <tr>\n",
              "      <th>25%</th>\n",
              "      <td>8000.00</td>\n",
              "      <td>10.49</td>\n",
              "      <td>250.33</td>\n",
              "      <td>45000.00</td>\n",
              "      <td>11.28</td>\n",
              "      <td>8.00</td>\n",
              "      <td>0.00</td>\n",
              "      <td>6025.00</td>\n",
              "      <td>35.80</td>\n",
              "      <td>17.00</td>\n",
              "      <td>0.00</td>\n",
              "      <td>0.00</td>\n",
              "    </tr>\n",
              "    <tr>\n",
              "      <th>50%</th>\n",
              "      <td>12000.00</td>\n",
              "      <td>13.33</td>\n",
              "      <td>375.43</td>\n",
              "      <td>64000.00</td>\n",
              "      <td>16.91</td>\n",
              "      <td>10.00</td>\n",
              "      <td>0.00</td>\n",
              "      <td>11181.00</td>\n",
              "      <td>54.80</td>\n",
              "      <td>24.00</td>\n",
              "      <td>1.00</td>\n",
              "      <td>0.00</td>\n",
              "    </tr>\n",
              "    <tr>\n",
              "      <th>75%</th>\n",
              "      <td>20000.00</td>\n",
              "      <td>16.49</td>\n",
              "      <td>567.30</td>\n",
              "      <td>90000.00</td>\n",
              "      <td>22.98</td>\n",
              "      <td>14.00</td>\n",
              "      <td>0.00</td>\n",
              "      <td>19620.00</td>\n",
              "      <td>72.90</td>\n",
              "      <td>32.00</td>\n",
              "      <td>3.00</td>\n",
              "      <td>0.00</td>\n",
              "    </tr>\n",
              "    <tr>\n",
              "      <th>max</th>\n",
              "      <td>40000.00</td>\n",
              "      <td>30.99</td>\n",
              "      <td>1533.81</td>\n",
              "      <td>8706582.00</td>\n",
              "      <td>9999.00</td>\n",
              "      <td>90.00</td>\n",
              "      <td>86.00</td>\n",
              "      <td>1743266.00</td>\n",
              "      <td>892.30</td>\n",
              "      <td>151.00</td>\n",
              "      <td>34.00</td>\n",
              "      <td>8.00</td>\n",
              "    </tr>\n",
              "  </tbody>\n",
              "</table>\n",
              "</div>"
            ],
            "text/plain": [
              "       loan_amnt  int_rate  installment  annual_inc       dti  open_acc  \\\n",
              "count  396030.00 396030.00    396030.00   396030.00 396030.00 396030.00   \n",
              "mean    14113.89     13.64       431.85    74203.18     17.38     11.31   \n",
              "std      8357.44      4.47       250.73    61637.62     18.02      5.14   \n",
              "min       500.00      5.32        16.08        0.00      0.00      0.00   \n",
              "25%      8000.00     10.49       250.33    45000.00     11.28      8.00   \n",
              "50%     12000.00     13.33       375.43    64000.00     16.91     10.00   \n",
              "75%     20000.00     16.49       567.30    90000.00     22.98     14.00   \n",
              "max     40000.00     30.99      1533.81  8706582.00   9999.00     90.00   \n",
              "\n",
              "        pub_rec  revol_bal  revol_util  total_acc  mort_acc  \\\n",
              "count 396030.00  396030.00   395754.00  396030.00 358235.00   \n",
              "mean       0.18   15844.54       53.79      25.41      1.81   \n",
              "std        0.53   20591.84       24.45      11.89      2.15   \n",
              "min        0.00       0.00        0.00       2.00      0.00   \n",
              "25%        0.00    6025.00       35.80      17.00      0.00   \n",
              "50%        0.00   11181.00       54.80      24.00      1.00   \n",
              "75%        0.00   19620.00       72.90      32.00      3.00   \n",
              "max       86.00 1743266.00      892.30     151.00     34.00   \n",
              "\n",
              "       pub_rec_bankruptcies  \n",
              "count             395495.00  \n",
              "mean                   0.12  \n",
              "std                    0.36  \n",
              "min                    0.00  \n",
              "25%                    0.00  \n",
              "50%                    0.00  \n",
              "75%                    0.00  \n",
              "max                    8.00  "
            ]
          },
          "metadata": {
            "tags": []
          },
          "execution_count": 9
        }
      ]
    },
    {
      "cell_type": "code",
      "metadata": {
        "id": "XmtuCWrUu8v_"
      },
      "source": [
        ""
      ],
      "execution_count": 8,
      "outputs": []
    },
    {
      "cell_type": "code",
      "metadata": {
        "id": "o4NHfPfXvJS9"
      },
      "source": [
        ""
      ],
      "execution_count": 8,
      "outputs": []
    },
    {
      "cell_type": "markdown",
      "metadata": {
        "id": "d-aHHCbEvCdu"
      },
      "source": [
        "EXPLORATORY DATA **ANALYSIS**"
      ]
    },
    {
      "cell_type": "code",
      "metadata": {
        "colab": {
          "base_uri": "https://localhost:8080/"
        },
        "id": "rCwi2XlNvKDO",
        "outputId": "eb15e702-cbb2-4c57-d6a9-dffde4f4e50e"
      },
      "source": [
        "data.info()\n"
      ],
      "execution_count": 10,
      "outputs": [
        {
          "output_type": "stream",
          "text": [
            "<class 'pandas.core.frame.DataFrame'>\n",
            "RangeIndex: 396030 entries, 0 to 396029\n",
            "Data columns (total 27 columns):\n",
            " #   Column                Non-Null Count   Dtype  \n",
            "---  ------                --------------   -----  \n",
            " 0   loan_amnt             396030 non-null  float64\n",
            " 1   term                  396030 non-null  object \n",
            " 2   int_rate              396030 non-null  float64\n",
            " 3   installment           396030 non-null  float64\n",
            " 4   grade                 396030 non-null  object \n",
            " 5   sub_grade             396030 non-null  object \n",
            " 6   emp_title             373103 non-null  object \n",
            " 7   emp_length            377729 non-null  object \n",
            " 8   home_ownership        396030 non-null  object \n",
            " 9   annual_inc            396030 non-null  float64\n",
            " 10  verification_status   396030 non-null  object \n",
            " 11  issue_d               396030 non-null  object \n",
            " 12  loan_status           396030 non-null  object \n",
            " 13  purpose               396030 non-null  object \n",
            " 14  title                 394275 non-null  object \n",
            " 15  dti                   396030 non-null  float64\n",
            " 16  earliest_cr_line      396030 non-null  object \n",
            " 17  open_acc              396030 non-null  float64\n",
            " 18  pub_rec               396030 non-null  float64\n",
            " 19  revol_bal             396030 non-null  float64\n",
            " 20  revol_util            395754 non-null  float64\n",
            " 21  total_acc             396030 non-null  float64\n",
            " 22  initial_list_status   396030 non-null  object \n",
            " 23  application_type      396030 non-null  object \n",
            " 24  mort_acc              358235 non-null  float64\n",
            " 25  pub_rec_bankruptcies  395495 non-null  float64\n",
            " 26  address               396030 non-null  object \n",
            "dtypes: float64(12), object(15)\n",
            "memory usage: 81.6+ MB\n"
          ],
          "name": "stdout"
        }
      ]
    },
    {
      "cell_type": "code",
      "metadata": {
        "colab": {
          "base_uri": "https://localhost:8080/",
          "height": 350
        },
        "id": "g27uh_4ivPcl",
        "outputId": "247e9105-1e53-4dde-865c-de05801859f6"
      },
      "source": [
        "sns.countplot(data.loan_status)\n"
      ],
      "execution_count": 11,
      "outputs": [
        {
          "output_type": "stream",
          "text": [
            "/usr/local/lib/python3.7/dist-packages/seaborn/_decorators.py:43: FutureWarning: Pass the following variable as a keyword arg: x. From version 0.12, the only valid positional argument will be `data`, and passing other arguments without an explicit keyword will result in an error or misinterpretation.\n",
            "  FutureWarning\n"
          ],
          "name": "stderr"
        },
        {
          "output_type": "execute_result",
          "data": {
            "text/plain": [
              "<matplotlib.axes._subplots.AxesSubplot at 0x7f46f7459b50>"
            ]
          },
          "metadata": {
            "tags": []
          },
          "execution_count": 11
        },
        {
          "output_type": "display_data",
          "data": {
            "image/png": "[encoded data removed]",
            "text/plain": [
              "<Figure size 432x288 with 1 Axes>"
            ]
          },
          "metadata": {
            "tags": [],
            "needs_background": "light"
          }
        }
      ]
    },
    {
      "cell_type": "code",
      "metadata": {
        "colab": {
          "base_uri": "https://localhost:8080/",
          "height": 600
        },
        "id": "Yph75RpGve2P",
        "outputId": "663dd6ca-2bf0-4622-edd4-612c8aa47053"
      },
      "source": [
        "plt.figure(figsize=(12, 8))\n",
        "sns.heatmap(data.corr(), annot=True, cmap='viridis')"
      ],
      "execution_count": 12,
      "outputs": [
        {
          "output_type": "execute_result",
          "data": {
            "text/plain": [
              "<matplotlib.axes._subplots.AxesSubplot at 0x7f46e4557690>"
            ]
          },
          "metadata": {
            "tags": []
          },
          "execution_count": 12
        },
        {
          "output_type": "display_data",
          "data": {
            "image/png": "[encoded data removed]",
            "text/plain": [
              "<Figure size 864x576 with 2 Axes>"
            ]
          },
          "metadata": {
            "tags": [],
            "needs_background": "light"
          }
        }
      ]
    },
    {
      "cell_type": "markdown",
      "metadata": {
        "id": "J4S6ibcxv6pe"
      },
      "source": [
        "We noticed almost perfect correlation between \"loan_amnt\" the \"installment\" feature. We'll explore this features further. Print out their descriptions and perform a scatterplot between them.\n",
        "\n",
        "Does this relationship make sense to you?\n",
        "Do we think there is duplicate information here?"
      ]
    },
    {
      "cell_type": "code",
      "metadata": {
        "colab": {
          "base_uri": "https://localhost:8080/",
          "height": 598
        },
        "id": "4M1BzcPpv-NX",
        "outputId": "2f089916-5559-4d09-94fe-ad582f8e49ae"
      },
      "source": [
        "plt.figure(figsize=(12, 20))\n",
        "\n",
        "plt.subplot(4, 2, 1)\n",
        "data[data[\"loan_status\"] == \"Fully Paid\"][\"installment\"].hist(bins=35, color='blue', label='loan_status = Fully Paid', alpha=0.6)\n",
        "data[data[\"loan_status\"] == \"Charged Off\"][\"installment\"].hist(bins=35, color='red', label='loan_status = Charged Off', alpha=0.6)\n",
        "plt.legend()\n",
        "plt.xlabel(\"installment\")\n",
        "\n",
        "plt.subplot(4, 2, 2)\n",
        "data[data[\"loan_status\"] == \"Fully Paid\"][\"loan_amnt\"].hist(bins=35, color='blue', label='loan_status = Fully Paid', alpha=0.6)\n",
        "data[data[\"loan_status\"] == \"Charged Off\"][\"loan_amnt\"].hist(bins=35, color='red', label='loan_status = Charged Off', alpha=0.6)\n",
        "plt.legend()\n",
        "plt.xlabel(\"loan_amnt\")\n",
        "\n",
        "plt.subplot(4, 2, 3)\n",
        "sns.scatterplot(x='installment', y='loan_amnt', data=data)\n",
        "\n",
        "plt.subplot(4, 2, 4)\n",
        "sns.boxplot(x='loan_status', y='loan_amnt', data=data)"
      ],
      "execution_count": 13,
      "outputs": [
        {
          "output_type": "execute_result",
          "data": {
            "text/plain": [
              "<matplotlib.axes._subplots.AxesSubplot at 0x7f46db6b9f10>"
            ]
          },
          "metadata": {
            "tags": []
          },
          "execution_count": 13
        },
        {
          "output_type": "display_data",
          "data": {
            "image/png": "[encoded data removed]",
            "text/plain": [
              "<Figure size 864x1440 with 4 Axes>"
            ]
          },
          "metadata": {
            "tags": [],
            "needs_background": "light"
          }
        }
      ]
    },
    {
      "cell_type": "code",
      "metadata": {
        "colab": {
          "base_uri": "https://localhost:8080/",
          "height": 142
        },
        "id": "JURC0j-PwidN",
        "outputId": "abb81039-fc34-48d1-acca-9c3063d96dbe"
      },
      "source": [
        "data.groupby(by='loan_status')['loan_amnt'].describe()\n"
      ],
      "execution_count": 14,
      "outputs": [
        {
          "output_type": "execute_result",
          "data": {
            "text/html": [
              "<div>\n",
              "<style scoped>\n",
              "    .dataframe tbody tr th:only-of-type {\n",
              "        vertical-align: middle;\n",
              "    }\n",
              "\n",
              "    .dataframe tbody tr th {\n",
              "        vertical-align: top;\n",
              "    }\n",
              "\n",
              "    .dataframe thead th {\n",
              "        text-align: right;\n",
              "    }\n",
              "</style>\n",
              "<table border=\"1\" class=\"dataframe\">\n",
              "  <thead>\n",
              "    <tr style=\"text-align: right;\">\n",
              "      <th></th>\n",
              "      <th>count</th>\n",
              "      <th>mean</th>\n",
              "      <th>std</th>\n",
              "      <th>min</th>\n",
              "      <th>25%</th>\n",
              "      <th>50%</th>\n",
              "      <th>75%</th>\n",
              "      <th>max</th>\n",
              "    </tr>\n",
              "    <tr>\n",
              "      <th>loan_status</th>\n",
              "      <th></th>\n",
              "      <th></th>\n",
              "      <th></th>\n",
              "      <th></th>\n",
              "      <th></th>\n",
              "      <th></th>\n",
              "      <th></th>\n",
              "      <th></th>\n",
              "    </tr>\n",
              "  </thead>\n",
              "  <tbody>\n",
              "    <tr>\n",
              "      <th>Charged Off</th>\n",
              "      <td>77673.00</td>\n",
              "      <td>15126.30</td>\n",
              "      <td>8505.09</td>\n",
              "      <td>1000.00</td>\n",
              "      <td>8525.00</td>\n",
              "      <td>14000.00</td>\n",
              "      <td>20000.00</td>\n",
              "      <td>40000.00</td>\n",
              "    </tr>\n",
              "    <tr>\n",
              "      <th>Fully Paid</th>\n",
              "      <td>318357.00</td>\n",
              "      <td>13866.88</td>\n",
              "      <td>8302.32</td>\n",
              "      <td>500.00</td>\n",
              "      <td>7500.00</td>\n",
              "      <td>12000.00</td>\n",
              "      <td>19225.00</td>\n",
              "      <td>40000.00</td>\n",
              "    </tr>\n",
              "  </tbody>\n",
              "</table>\n",
              "</div>"
            ],
            "text/plain": [
              "                count     mean     std     min     25%      50%      75%  \\\n",
              "loan_status                                                                \n",
              "Charged Off  77673.00 15126.30 8505.09 1000.00 8525.00 14000.00 20000.00   \n",
              "Fully Paid  318357.00 13866.88 8302.32  500.00 7500.00 12000.00 19225.00   \n",
              "\n",
              "                 max  \n",
              "loan_status           \n",
              "Charged Off 40000.00  \n",
              "Fully Paid  40000.00  "
            ]
          },
          "metadata": {
            "tags": []
          },
          "execution_count": 14
        }
      ]
    },
    {
      "cell_type": "code",
      "metadata": {
        "colab": {
          "base_uri": "https://localhost:8080/"
        },
        "id": "E4jn6H3OwoNC",
        "outputId": "62faec99-053d-454b-8a45-05670a92b6f1"
      },
      "source": [
        "print(f\"GRADE unique: {data.grade.unique()}\")\n",
        "print(f\"SUB_GRADE unique: {data.sub_grade.unique()}\")"
      ],
      "execution_count": 15,
      "outputs": [
        {
          "output_type": "stream",
          "text": [
            "GRADE unique: ['B' 'A' 'C' 'E' 'D' 'F' 'G']\n",
            "SUB_GRADE unique: ['B4' 'B5' 'B3' 'A2' 'C5' 'C3' 'A1' 'B2' 'C1' 'A5' 'E4' 'A4' 'A3' 'D1'\n",
            " 'C2' 'B1' 'D3' 'D5' 'D2' 'E1' 'E2' 'E5' 'F4' 'E3' 'D4' 'G1' 'F5' 'G2'\n",
            " 'C4' 'F1' 'F3' 'G5' 'G4' 'F2' 'G3']\n"
          ],
          "name": "stdout"
        }
      ]
    },
    {
      "cell_type": "code",
      "metadata": {
        "colab": {
          "base_uri": "https://localhost:8080/",
          "height": 313
        },
        "id": "KBb2GINCwvtL",
        "outputId": "2fdd3d3f-179d-4d3d-88d8-c186a72a08db"
      },
      "source": [
        "plt.figure(figsize=(15, 10))\n",
        "\n",
        "plt.subplot(2, 2, 1)\n",
        "grade = sorted(data.grade.unique().tolist())\n",
        "sns.countplot(x='grade', data=data, hue='loan_status', order=grade)\n",
        "\n",
        "plt.subplot(2, 2, 2)\n",
        "sub_grade = sorted(data.sub_grade.unique().tolist())\n",
        "g = sns.countplot(x='sub_grade', data=data, hue='loan_status', order=sub_grade)\n",
        "g.set_xticklabels(g.get_xticklabels(), rotation=90);"
      ],
      "execution_count": 16,
      "outputs": [
        {
          "output_type": "display_data",
          "data": {
            "image/png": "[encoded data removed]",
            "text/plain": [
              "<Figure size 1080x720 with 2 Axes>"
            ]
          },
          "metadata": {
            "tags": [],
            "needs_background": "light"
          }
        }
      ]
    },
    {
      "cell_type": "markdown",
      "metadata": {
        "id": "wsL5j9utxHsZ"
      },
      "source": [
        "It looks like F and G subgrades don't get paid back that often. Isloate those and recreate the countplot just for those subgrades."
      ]
    },
    {
      "cell_type": "code",
      "metadata": {
        "colab": {
          "base_uri": "https://localhost:8080/",
          "height": 327
        },
        "id": "i83UTwYvxNUu",
        "outputId": "3428ebfe-2711-4acf-91a9-1470391d2bbb"
      },
      "source": [
        "df = data[(data.grade == 'F') | (data.grade == 'G')]\n",
        "\n",
        "plt.figure(figsize=(15, 10))\n",
        "\n",
        "plt.subplot(2, 2, 1)\n",
        "grade = sorted(df.grade.unique().tolist())\n",
        "sns.countplot(x='grade', data=df, hue='loan_status', order=grade)\n",
        "\n",
        "plt.subplot(2, 2, 2)\n",
        "sub_grade = sorted(df.sub_grade.unique().tolist())\n",
        "sns.countplot(x='sub_grade', data=df, hue='loan_status', order=sub_grade)"
      ],
      "execution_count": 17,
      "outputs": [
        {
          "output_type": "execute_result",
          "data": {
            "text/plain": [
              "<matplotlib.axes._subplots.AxesSubplot at 0x7f46d95e1050>"
            ]
          },
          "metadata": {
            "tags": []
          },
          "execution_count": 17
        },
        {
          "output_type": "display_data",
          "data": {
            "image/png": "[encoded data removed]",
            "text/plain": [
              "<Figure size 1080x720 with 2 Axes>"
            ]
          },
          "metadata": {
            "tags": [],
            "needs_background": "light"
          }
        }
      ]
    },
    {
      "cell_type": "code",
      "metadata": {
        "colab": {
          "base_uri": "https://localhost:8080/"
        },
        "id": "J6vOyiBixS1P",
        "outputId": "a4c7dbd1-e685-45a8-9bf8-cd3c14caeafc"
      },
      "source": [
        "data.home_ownership.value_counts()\n"
      ],
      "execution_count": 18,
      "outputs": [
        {
          "output_type": "execute_result",
          "data": {
            "text/plain": [
              "MORTGAGE    198348\n",
              "RENT        159790\n",
              "OWN          37746\n",
              "OTHER          112\n",
              "NONE            31\n",
              "ANY              3\n",
              "Name: home_ownership, dtype: int64"
            ]
          },
          "metadata": {
            "tags": []
          },
          "execution_count": 18
        }
      ]
    },
    {
      "cell_type": "code",
      "metadata": {
        "colab": {
          "base_uri": "https://localhost:8080/"
        },
        "id": "gnE9xlaCxW6m",
        "outputId": "80818fb6-68db-437e-e0b7-d87d4b3a1e69"
      },
      "source": [
        "data.loc[(data.home_ownership == 'ANY') | (data.home_ownership == 'NONE'), 'home_ownership'] = 'OTHER'  \n",
        "data.home_ownership.value_counts()"
      ],
      "execution_count": 19,
      "outputs": [
        {
          "output_type": "execute_result",
          "data": {
            "text/plain": [
              "MORTGAGE    198348\n",
              "RENT        159790\n",
              "OWN          37746\n",
              "OTHER          146\n",
              "Name: home_ownership, dtype: int64"
            ]
          },
          "metadata": {
            "tags": []
          },
          "execution_count": 19
        }
      ]
    },
    {
      "cell_type": "code",
      "metadata": {
        "colab": {
          "base_uri": "https://localhost:8080/",
          "height": 671
        },
        "id": "ht7jibAXxuLv",
        "outputId": "5b8948dc-86a9-44d1-8dfb-6841602b42be"
      },
      "source": [
        "plt.figure(figsize=(15, 20))\n",
        "\n",
        "plt.subplot(4, 2, 1)\n",
        "sns.countplot(x='term', data=data, hue='loan_status')\n",
        "\n",
        "plt.subplot(4, 2, 2)\n",
        "sns.countplot(x='home_ownership', data=data, hue='loan_status')\n",
        "\n",
        "plt.subplot(4, 2, 3)\n",
        "sns.countplot(x='verification_status', data=data, hue='loan_status')\n",
        "\n",
        "plt.subplot(4, 2, 4)\n",
        "g = sns.countplot(x='purpose', data=data, hue='loan_status')\n",
        "g.set_xticklabels(g.get_xticklabels(), rotation=90);"
      ],
      "execution_count": 20,
      "outputs": [
        {
          "output_type": "display_data",
          "data": {
            "image/png": "[encoded data removed]",
            "text/plain": [
              "<Figure size 1080x1440 with 4 Axes>"
            ]
          },
          "metadata": {
            "tags": [],
            "needs_background": "light"
          }
        }
      ]
    },
    {
      "cell_type": "code",
      "metadata": {
        "colab": {
          "base_uri": "https://localhost:8080/",
          "height": 325
        },
        "id": "VegUaqY0xyI8",
        "outputId": "d3dceffd-f22e-415e-9b5c-dd4769f98a7f"
      },
      "source": [
        "plt.figure(figsize=(15, 10))\n",
        "\n",
        "plt.subplot(2, 2, 1)\n",
        "data[data[\"loan_status\"] == \"Fully Paid\"][\"int_rate\"].hist(bins=35, color='blue', label='loan_status = Fully Paid', alpha=0.6)\n",
        "data[data[\"loan_status\"] == \"Charged Off\"][\"int_rate\"].hist(bins=35, color='red', label='loan_status = Charged Off', alpha=0.6)\n",
        "plt.legend()\n",
        "plt.xlabel(\"int_rate\")\n",
        "\n",
        "plt.subplot(2, 2, 2)\n",
        "data[data[\"loan_status\"] == \"Fully Paid\"][\"annual_inc\"].hist(bins=10, color='blue', label='loan_status = Fully Paid', alpha=0.6)\n",
        "data[data[\"loan_status\"] == \"Charged Off\"][\"annual_inc\"].hist(bins=10, color='red', label='loan_status = Charged Off', alpha=0.6)\n",
        "plt.legend()\n",
        "plt.xlabel(\"annual_inc\")"
      ],
      "execution_count": 21,
      "outputs": [
        {
          "output_type": "execute_result",
          "data": {
            "text/plain": [
              "Text(0.5, 0, 'annual_inc')"
            ]
          },
          "metadata": {
            "tags": []
          },
          "execution_count": 21
        },
        {
          "output_type": "display_data",
          "data": {
            "image/png": "[encoded data removed]",
            "text/plain": [
              "<Figure size 1080x720 with 2 Axes>"
            ]
          },
          "metadata": {
            "tags": [],
            "needs_background": "light"
          }
        }
      ]
    },
    {
      "cell_type": "code",
      "metadata": {
        "colab": {
          "base_uri": "https://localhost:8080/"
        },
        "id": "4Bk8uFyNyRHz",
        "outputId": "c81ba831-7023-4349-a4cd-097c2094b12d"
      },
      "source": [
        "data[data.annual_inc >= 1000000].shape\n"
      ],
      "execution_count": 22,
      "outputs": [
        {
          "output_type": "execute_result",
          "data": {
            "text/plain": [
              "(75, 27)"
            ]
          },
          "metadata": {
            "tags": []
          },
          "execution_count": 22
        }
      ]
    },
    {
      "cell_type": "code",
      "metadata": {
        "colab": {
          "base_uri": "https://localhost:8080/"
        },
        "id": "kF5HuGNSyXTk",
        "outputId": "91ce22c0-deb3-4660-f1b1-ee3e3efe9a1e"
      },
      "source": [
        "data.emp_title.isna().sum()\n"
      ],
      "execution_count": 23,
      "outputs": [
        {
          "output_type": "execute_result",
          "data": {
            "text/plain": [
              "22927"
            ]
          },
          "metadata": {
            "tags": []
          },
          "execution_count": 23
        }
      ]
    },
    {
      "cell_type": "code",
      "metadata": {
        "id": "jWTZrCrsyZYp"
      },
      "source": [
        "data['emp_title'] = data.emp_title.str.lower()\n"
      ],
      "execution_count": 24,
      "outputs": []
    },
    {
      "cell_type": "code",
      "metadata": {
        "id": "GBMKUs8Jyc2U"
      },
      "source": [
        "def manager(string):\n",
        "    if type(string) is str:\n",
        "        return 'manager' if 'manager' in string else string\n",
        "\n",
        "def president(string):\n",
        "    if type(string) is str:\n",
        "        return 'president' if 'president' in string else string\n",
        "    \n",
        "def nurse(string):\n",
        "    if type(string) is str:\n",
        "        return 'nurse' if 'nurse' in string else string\n",
        "    \n",
        "def driver(string):\n",
        "    if type(string) is str:\n",
        "        return 'driver' if 'driver' in string else string\n",
        "    \n",
        "def assistant(string):\n",
        "    if type(string) is str:\n",
        "        return 'assistant' if 'assistant' in string else string\n",
        "\n",
        "def engineer(string):\n",
        "    if type(string) is str:\n",
        "        return 'engineer' if 'engineer' in string else string    \n",
        "\n",
        "functions = [manager, president, nurse, driver, assistant, engineer]\n",
        "for func in functions:\n",
        "    data['emp_title'] = data.emp_title.apply(func)\n"
      ],
      "execution_count": 25,
      "outputs": []
    },
    {
      "cell_type": "code",
      "metadata": {
        "colab": {
          "base_uri": "https://localhost:8080/"
        },
        "id": "IAcVGOeiyqLO",
        "outputId": "a94823c9-54b7-497b-d4c5-60320de86c4f"
      },
      "source": [
        "data.emp_title.value_counts()[:30]\n"
      ],
      "execution_count": 26,
      "outputs": [
        {
          "output_type": "execute_result",
          "data": {
            "text/plain": [
              "manager              39831\n",
              "engineer              8603\n",
              "assistant             7548\n",
              "driver                5743\n",
              "teacher               5430\n",
              "nurse                 5146\n",
              "president             3276\n",
              "supervisor            2591\n",
              "sales                 2382\n",
              "owner                 2201\n",
              "rn                    2074\n",
              "director              1192\n",
              "police officer        1041\n",
              "accountant             845\n",
              "technician             839\n",
              "mechanic               753\n",
              "attorney               744\n",
              "analyst                703\n",
              "us army                671\n",
              "paralegal              586\n",
              "customer service       563\n",
              "server                 538\n",
              "electrician            527\n",
              "foreman                506\n",
              "operator               490\n",
              "controller             470\n",
              "consultant             463\n",
              "bank of america        459\n",
              "clerk                  452\n",
              "account executive      447\n",
              "Name: emp_title, dtype: int64"
            ]
          },
          "metadata": {
            "tags": []
          },
          "execution_count": 26
        }
      ]
    },
    {
      "cell_type": "code",
      "metadata": {
        "colab": {
          "base_uri": "https://localhost:8080/",
          "height": 392
        },
        "id": "ibtFXqHKyvuk",
        "outputId": "fd5feca7-c17c-4231-e24c-c098180e9edc"
      },
      "source": [
        "plt.figure(figsize=(15, 12))\n",
        "\n",
        "plt.subplot(2, 2, 1)\n",
        "order = ['< 1 year', '1 year', '2 years', '3 years', '4 years', '5 years', \n",
        "          '6 years', '7 years', '8 years', '9 years', '10+ years',]\n",
        "sns.countplot(x='emp_length', data=data, hue='loan_status', order=order)\n",
        "\n",
        "plt.subplot(2, 2, 2)\n",
        "plt.barh(data.emp_title.value_counts()[:30].index, data.emp_title.value_counts()[:30])\n",
        "plt.title(\"The most 30 jobs title afforded a loan\")"
      ],
      "execution_count": 27,
      "outputs": [
        {
          "output_type": "execute_result",
          "data": {
            "text/plain": [
              "Text(0.5, 1.0, 'The most 30 jobs title afforded a loan')"
            ]
          },
          "metadata": {
            "tags": []
          },
          "execution_count": 27
        },
        {
          "output_type": "display_data",
          "data": {
            "image/png": "[encoded data removed]",
            "text/plain": [
              "<Figure size 1080x864 with 2 Axes>"
            ]
          },
          "metadata": {
            "tags": [],
            "needs_background": "light"
          }
        }
      ]
    },
    {
      "cell_type": "code",
      "metadata": {
        "colab": {
          "base_uri": "https://localhost:8080/",
          "height": 358
        },
        "id": "3SdtBwBhy3b1",
        "outputId": "d6f2e74d-f5bc-482f-965b-c72c460bd996"
      },
      "source": [
        "plt.figure(figsize=(15, 12))\n",
        "\n",
        "plt.subplot(2, 2, 1)\n",
        "data.issue_d.value_counts().sort_index().plot()\n",
        "\n",
        "plt.subplot(2, 2, 2)\n",
        "data.earliest_cr_line.value_counts().sort_index().plot()"
      ],
      "execution_count": 28,
      "outputs": [
        {
          "output_type": "execute_result",
          "data": {
            "text/plain": [
              "<matplotlib.axes._subplots.AxesSubplot at 0x7f46d79475d0>"
            ]
          },
          "metadata": {
            "tags": []
          },
          "execution_count": 28
        },
        {
          "output_type": "display_data",
          "data": {
            "image/png": "[encoded data removed]",
            "text/plain": [
              "<Figure size 1080x864 with 2 Axes>"
            ]
          },
          "metadata": {
            "tags": [],
            "needs_background": "light"
          }
        }
      ]
    },
    {
      "cell_type": "code",
      "metadata": {
        "colab": {
          "base_uri": "https://localhost:8080/"
        },
        "id": "S53maD2mzCx4",
        "outputId": "6d84ff2b-66b0-4184-819e-5d81eb50437b"
      },
      "source": [
        "data.title.isna().sum()\n"
      ],
      "execution_count": 29,
      "outputs": [
        {
          "output_type": "execute_result",
          "data": {
            "text/plain": [
              "1755"
            ]
          },
          "metadata": {
            "tags": []
          },
          "execution_count": 29
        }
      ]
    },
    {
      "cell_type": "code",
      "metadata": {
        "id": "oelq8kb8zLA8"
      },
      "source": [
        "data['title'] = data.title.str.lower()\n"
      ],
      "execution_count": 30,
      "outputs": []
    },
    {
      "cell_type": "code",
      "metadata": {
        "colab": {
          "base_uri": "https://localhost:8080/"
        },
        "id": "DqjGy9rozP90",
        "outputId": "a94f9add-e615-451e-c826-3220dddef85b"
      },
      "source": [
        "data.title.value_counts()[:30]\n"
      ],
      "execution_count": 31,
      "outputs": [
        {
          "output_type": "execute_result",
          "data": {
            "text/plain": [
              "debt consolidation           168108\n",
              "credit card refinancing       51781\n",
              "home improvement              17117\n",
              "other                         12993\n",
              "consolidation                  5583\n",
              "major purchase                 4998\n",
              "debt consolidation loan        3513\n",
              "business                       3017\n",
              "medical expenses               2820\n",
              "credit card consolidation      2638\n",
              "personal loan                  2460\n",
              "car financing                  2160\n",
              "credit card payoff             1904\n",
              "consolidation loan             1887\n",
              "vacation                       1866\n",
              "credit card refinance          1832\n",
              "moving and relocation          1693\n",
              "consolidate                    1528\n",
              "personal                       1465\n",
              "home buying                    1196\n",
              "loan                           1150\n",
              "payoff                         1035\n",
              "credit cards                   1030\n",
              "freedom                         934\n",
              "debt                            933\n",
              "my loan                         897\n",
              "credit card loan                879\n",
              "credit card                     848\n",
              "debt consolidation              840\n",
              "debt free                       748\n",
              "Name: title, dtype: int64"
            ]
          },
          "metadata": {
            "tags": []
          },
          "execution_count": 31
        }
      ]
    },
    {
      "cell_type": "code",
      "metadata": {
        "colab": {
          "base_uri": "https://localhost:8080/"
        },
        "id": "yz9_9F2EzSoo",
        "outputId": "3042b572-6bdf-4296-8d9d-b08bb86b143f"
      },
      "source": [
        "data.dti.value_counts()\n"
      ],
      "execution_count": 32,
      "outputs": [
        {
          "output_type": "execute_result",
          "data": {
            "text/plain": [
              "0.00     313\n",
              "14.40    310\n",
              "19.20    302\n",
              "16.80    301\n",
              "18.00    300\n",
              "        ... \n",
              "46.51      1\n",
              "43.24      1\n",
              "46.77      1\n",
              "92.13      1\n",
              "40.14      1\n",
              "Name: dti, Length: 4262, dtype: int64"
            ]
          },
          "metadata": {
            "tags": []
          },
          "execution_count": 32
        }
      ]
    },
    {
      "cell_type": "code",
      "metadata": {
        "colab": {
          "base_uri": "https://localhost:8080/"
        },
        "id": "_5_KwmCFzYB9",
        "outputId": "0e42401f-5367-4db2-a20e-cec01d7ea7e9"
      },
      "source": [
        "data[data.open_acc > 40].shape"
      ],
      "execution_count": 33,
      "outputs": [
        {
          "output_type": "execute_result",
          "data": {
            "text/plain": [
              "(217, 27)"
            ]
          },
          "metadata": {
            "tags": []
          },
          "execution_count": 33
        }
      ]
    },
    {
      "cell_type": "code",
      "metadata": {
        "colab": {
          "base_uri": "https://localhost:8080/"
        },
        "id": "coGi-UAezfp4",
        "outputId": "0bd304ca-f240-40e6-82de-da2187a7827c"
      },
      "source": [
        "data[data.total_acc > 80].shape"
      ],
      "execution_count": 34,
      "outputs": [
        {
          "output_type": "execute_result",
          "data": {
            "text/plain": [
              "(266, 27)"
            ]
          },
          "metadata": {
            "tags": []
          },
          "execution_count": 34
        }
      ]
    },
    {
      "cell_type": "code",
      "metadata": {
        "colab": {
          "base_uri": "https://localhost:8080/"
        },
        "id": "0gD2E69Bzio0",
        "outputId": "ce015cde-e121-4722-bd38-01286dc85991"
      },
      "source": [
        "data[data.revol_bal < 10000].shape"
      ],
      "execution_count": 35,
      "outputs": [
        {
          "output_type": "execute_result",
          "data": {
            "text/plain": [
              "(177624, 27)"
            ]
          },
          "metadata": {
            "tags": []
          },
          "execution_count": 35
        }
      ]
    },
    {
      "cell_type": "code",
      "metadata": {
        "colab": {
          "base_uri": "https://localhost:8080/",
          "height": 134
        },
        "id": "jY5AsNFXzlyG",
        "outputId": "c4dbb48f-a44a-4410-eb17-de0ff35ee874"
      },
      "source": [
        "data[data.revol_util > 200]\n"
      ],
      "execution_count": 36,
      "outputs": [
        {
          "output_type": "execute_result",
          "data": {
            "text/html": [
              "<div>\n",
              "<style scoped>\n",
              "    .dataframe tbody tr th:only-of-type {\n",
              "        vertical-align: middle;\n",
              "    }\n",
              "\n",
              "    .dataframe tbody tr th {\n",
              "        vertical-align: top;\n",
              "    }\n",
              "\n",
              "    .dataframe thead th {\n",
              "        text-align: right;\n",
              "    }\n",
              "</style>\n",
              "<table border=\"1\" class=\"dataframe\">\n",
              "  <thead>\n",
              "    <tr style=\"text-align: right;\">\n",
              "      <th></th>\n",
              "      <th>loan_amnt</th>\n",
              "      <th>term</th>\n",
              "      <th>int_rate</th>\n",
              "      <th>installment</th>\n",
              "      <th>grade</th>\n",
              "      <th>sub_grade</th>\n",
              "      <th>emp_title</th>\n",
              "      <th>emp_length</th>\n",
              "      <th>home_ownership</th>\n",
              "      <th>annual_inc</th>\n",
              "      <th>verification_status</th>\n",
              "      <th>issue_d</th>\n",
              "      <th>loan_status</th>\n",
              "      <th>purpose</th>\n",
              "      <th>title</th>\n",
              "      <th>dti</th>\n",
              "      <th>earliest_cr_line</th>\n",
              "      <th>open_acc</th>\n",
              "      <th>pub_rec</th>\n",
              "      <th>revol_bal</th>\n",
              "      <th>revol_util</th>\n",
              "      <th>total_acc</th>\n",
              "      <th>initial_list_status</th>\n",
              "      <th>application_type</th>\n",
              "      <th>mort_acc</th>\n",
              "      <th>pub_rec_bankruptcies</th>\n",
              "      <th>address</th>\n",
              "    </tr>\n",
              "  </thead>\n",
              "  <tbody>\n",
              "    <tr>\n",
              "      <th>137211</th>\n",
              "      <td>3500.00</td>\n",
              "      <td>36 months</td>\n",
              "      <td>12.49</td>\n",
              "      <td>117.08</td>\n",
              "      <td>B</td>\n",
              "      <td>B4</td>\n",
              "      <td>budget analyst</td>\n",
              "      <td>10+ years</td>\n",
              "      <td>RENT</td>\n",
              "      <td>45000.00</td>\n",
              "      <td>Verified</td>\n",
              "      <td>Apr-2014</td>\n",
              "      <td>Fully Paid</td>\n",
              "      <td>debt_consolidation</td>\n",
              "      <td>debt consolidation</td>\n",
              "      <td>14.67</td>\n",
              "      <td>Oct-1998</td>\n",
              "      <td>2.00</td>\n",
              "      <td>0.00</td>\n",
              "      <td>2677.00</td>\n",
              "      <td>892.30</td>\n",
              "      <td>9.00</td>\n",
              "      <td>f</td>\n",
              "      <td>INDIVIDUAL</td>\n",
              "      <td>0.00</td>\n",
              "      <td>0.00</td>\n",
              "      <td>12506 Connie Burg\\r\\nVelasquezfort, TN 00813</td>\n",
              "    </tr>\n",
              "  </tbody>\n",
              "</table>\n",
              "</div>"
            ],
            "text/plain": [
              "        loan_amnt        term  int_rate  installment grade sub_grade  \\\n",
              "137211    3500.00   36 months     12.49       117.08     B        B4   \n",
              "\n",
              "             emp_title emp_length home_ownership  annual_inc  \\\n",
              "137211  budget analyst  10+ years           RENT    45000.00   \n",
              "\n",
              "       verification_status   issue_d loan_status             purpose  \\\n",
              "137211            Verified  Apr-2014  Fully Paid  debt_consolidation   \n",
              "\n",
              "                     title   dti earliest_cr_line  open_acc  pub_rec  \\\n",
              "137211  debt consolidation 14.67         Oct-1998      2.00     0.00   \n",
              "\n",
              "        revol_bal  revol_util  total_acc initial_list_status application_type  \\\n",
              "137211    2677.00      892.30       9.00                   f       INDIVIDUAL   \n",
              "\n",
              "        mort_acc  pub_rec_bankruptcies  \\\n",
              "137211      0.00                  0.00   \n",
              "\n",
              "                                             address  \n",
              "137211  12506 Connie Burg\\r\\nVelasquezfort, TN 00813  "
            ]
          },
          "metadata": {
            "tags": []
          },
          "execution_count": 36
        }
      ]
    },
    {
      "cell_type": "code",
      "metadata": {
        "colab": {
          "base_uri": "https://localhost:8080/",
          "height": 873
        },
        "id": "_20OZVaOzopm",
        "outputId": "26933cf4-04f9-471c-a425-e20ec4db8f67"
      },
      "source": [
        "plt.figure(figsize=(15, 30))\n",
        "\n",
        "plt.subplot(6, 2, 1)\n",
        "data[data[\"loan_status\"] == \"Fully Paid\"][\"dti\"].value_counts().hist(bins=35, color='blue', \n",
        "                                                                     label='loan_status = Fully Paid', alpha=0.6)\n",
        "data[data[\"loan_status\"] == \"Charged Off\"][\"dti\"].value_counts().hist(bins=35, color='red', \n",
        "                                                                      label='loan_status = Charged Off', alpha=0.6)\n",
        "plt.legend()\n",
        "plt.xlabel(\"dti\")\n",
        "\n",
        "plt.subplot(6, 2, 2)\n",
        "data[data[\"loan_status\"] == \"Fully Paid\"][\"open_acc\"].hist(bins=35, color='blue', label='loan_status = Fully Paid', alpha=0.6)\n",
        "data[data[\"loan_status\"] == \"Charged Off\"][\"open_acc\"].hist(bins=35, color='red', label='loan_status = Charged Off', alpha=0.6)\n",
        "plt.legend()\n",
        "plt.xlabel(\"open_acc\")\n",
        "\n",
        "plt.subplot(6, 2, 3)\n",
        "df = data[(data.revol_bal <= 10000)]\n",
        "df[df[\"loan_status\"] == \"Fully Paid\"][\"revol_bal\"].hist(bins=35, color='blue', label='loan_status = Fully Paid', alpha=0.6)\n",
        "df[df[\"loan_status\"] == \"Charged Off\"][\"revol_bal\"].hist(bins=35, color='red', label='loan_status = Charged Off', alpha=0.6)\n",
        "plt.legend()\n",
        "plt.xlabel(\"revol_bal\")\n",
        "\n",
        "plt.subplot(6, 2, 4)\n",
        "data[data[\"loan_status\"] == \"Fully Paid\"][\"revol_util\"].hist(bins=35, color='blue', label='loan_status = Fully Paid', alpha=0.6)\n",
        "data[data[\"loan_status\"] == \"Charged Off\"][\"revol_util\"].hist(bins=35, color='red', label='loan_status = Charged Off', alpha=0.6)\n",
        "plt.legend()\n",
        "plt.xlabel(\"revol_util\")\n",
        "\n",
        "plt.subplot(6, 2, 5)\n",
        "df = data[(data.revol_bal <= 10000)]\n",
        "df[df[\"loan_status\"] == \"Fully Paid\"][\"total_acc\"].hist(bins=35, color='blue', label='loan_status = Fully Paid', alpha=0.6)\n",
        "df[df[\"loan_status\"] == \"Charged Off\"][\"total_acc\"].hist(bins=35, color='red', label='loan_status = Charged Off', alpha=0.6)\n",
        "plt.legend()\n",
        "plt.xlabel(\"total_acc\")"
      ],
      "execution_count": 37,
      "outputs": [
        {
          "output_type": "execute_result",
          "data": {
            "text/plain": [
              "Text(0.5, 0, 'total_acc')"
            ]
          },
          "metadata": {
            "tags": []
          },
          "execution_count": 37
        },
        {
          "output_type": "display_data",
          "data": {
            "image/png": "[encoded data removed]",
            "text/plain": [
              "<Figure size 1080x2160 with 5 Axes>"
            ]
          },
          "metadata": {
            "tags": [],
            "needs_background": "light"
          }
        }
      ]
    },
    {
      "cell_type": "markdown",
      "metadata": {
        "id": "EzzdkVqAz_ZA"
      },
      "source": [
        "It seems that the smaller the dti the more likely that the loan will not be paid.\n",
        "Only 217 borrower have more than 40 open credit lines.\n",
        "Only 266 borrower have more than 80 credit line in the borrower credit file.\n"
      ]
    },
    {
      "cell_type": "code",
      "metadata": {
        "colab": {
          "base_uri": "https://localhost:8080/"
        },
        "id": "MpRstEdj0BCk",
        "outputId": "120a6775-aefe-448e-9520-1e562624e28d"
      },
      "source": [
        "data.pub_rec.value_counts()\n"
      ],
      "execution_count": 38,
      "outputs": [
        {
          "output_type": "execute_result",
          "data": {
            "text/plain": [
              "0.00     338272\n",
              "1.00      49739\n",
              "2.00       5476\n",
              "3.00       1521\n",
              "4.00        527\n",
              "5.00        237\n",
              "6.00        122\n",
              "7.00         56\n",
              "8.00         34\n",
              "9.00         12\n",
              "10.00        11\n",
              "11.00         8\n",
              "13.00         4\n",
              "12.00         4\n",
              "19.00         2\n",
              "86.00         1\n",
              "40.00         1\n",
              "17.00         1\n",
              "15.00         1\n",
              "24.00         1\n",
              "Name: pub_rec, dtype: int64"
            ]
          },
          "metadata": {
            "tags": []
          },
          "execution_count": 38
        }
      ]
    },
    {
      "cell_type": "code",
      "metadata": {
        "colab": {
          "base_uri": "https://localhost:8080/"
        },
        "id": "BzjFwalr0HSJ",
        "outputId": "77239cb0-7d5f-4634-9e22-8391eab272c3"
      },
      "source": [
        "data.initial_list_status.value_counts()\n"
      ],
      "execution_count": 39,
      "outputs": [
        {
          "output_type": "execute_result",
          "data": {
            "text/plain": [
              "f    238066\n",
              "w    157964\n",
              "Name: initial_list_status, dtype: int64"
            ]
          },
          "metadata": {
            "tags": []
          },
          "execution_count": 39
        }
      ]
    },
    {
      "cell_type": "code",
      "metadata": {
        "colab": {
          "base_uri": "https://localhost:8080/"
        },
        "id": "gKyovxWa0LBG",
        "outputId": "413a9c4b-9ab6-4a95-d19c-69ebaa971485"
      },
      "source": [
        "data.application_type.value_counts()\n"
      ],
      "execution_count": 40,
      "outputs": [
        {
          "output_type": "execute_result",
          "data": {
            "text/plain": [
              "INDIVIDUAL    395319\n",
              "JOINT            425\n",
              "DIRECT_PAY       286\n",
              "Name: application_type, dtype: int64"
            ]
          },
          "metadata": {
            "tags": []
          },
          "execution_count": 40
        }
      ]
    },
    {
      "cell_type": "code",
      "metadata": {
        "colab": {
          "base_uri": "https://localhost:8080/"
        },
        "id": "Y2CB7WEc0O5e",
        "outputId": "082c177b-f7b0-4ff9-8983-bf51747b881b"
      },
      "source": [
        "data.mort_acc.value_counts()\n"
      ],
      "execution_count": 41,
      "outputs": [
        {
          "output_type": "execute_result",
          "data": {
            "text/plain": [
              "0.00     139777\n",
              "1.00      60416\n",
              "2.00      49948\n",
              "3.00      38049\n",
              "4.00      27887\n",
              "5.00      18194\n",
              "6.00      11069\n",
              "7.00       6052\n",
              "8.00       3121\n",
              "9.00       1656\n",
              "10.00       865\n",
              "11.00       479\n",
              "12.00       264\n",
              "13.00       146\n",
              "14.00       107\n",
              "15.00        61\n",
              "16.00        37\n",
              "17.00        22\n",
              "18.00        18\n",
              "19.00        15\n",
              "20.00        13\n",
              "24.00        10\n",
              "22.00         7\n",
              "21.00         4\n",
              "25.00         4\n",
              "27.00         3\n",
              "23.00         2\n",
              "32.00         2\n",
              "26.00         2\n",
              "31.00         2\n",
              "30.00         1\n",
              "28.00         1\n",
              "34.00         1\n",
              "Name: mort_acc, dtype: int64"
            ]
          },
          "metadata": {
            "tags": []
          },
          "execution_count": 41
        }
      ]
    },
    {
      "cell_type": "code",
      "metadata": {
        "colab": {
          "base_uri": "https://localhost:8080/"
        },
        "id": "1Ga08hhk0Sx3",
        "outputId": "6432de51-e9fd-4001-ee4e-3a5ca2fc661e"
      },
      "source": [
        "data.pub_rec_bankruptcies.value_counts()\n"
      ],
      "execution_count": 42,
      "outputs": [
        {
          "output_type": "execute_result",
          "data": {
            "text/plain": [
              "0.00    350380\n",
              "1.00     42790\n",
              "2.00      1847\n",
              "3.00       351\n",
              "4.00        82\n",
              "5.00        32\n",
              "6.00         7\n",
              "7.00         4\n",
              "8.00         2\n",
              "Name: pub_rec_bankruptcies, dtype: int64"
            ]
          },
          "metadata": {
            "tags": []
          },
          "execution_count": 42
        }
      ]
    },
    {
      "cell_type": "code",
      "metadata": {
        "id": "u1HMb47O0Xxw"
      },
      "source": [
        "def pub_rec(number):\n",
        "    if number == 0.0:\n",
        "        return 0\n",
        "    else:\n",
        "        return 1\n",
        "    \n",
        "def mort_acc(number):\n",
        "    if number == 0.0:\n",
        "        return 0\n",
        "    elif number >= 1.0:\n",
        "        return 1\n",
        "    else:\n",
        "        return number\n",
        "    \n",
        "def pub_rec_bankruptcies(number):\n",
        "    if number == 0.0:\n",
        "        return 0\n",
        "    elif number >= 1.0:\n",
        "        return 1\n",
        "    else:\n",
        "        return number"
      ],
      "execution_count": 43,
      "outputs": []
    },
    {
      "cell_type": "code",
      "metadata": {
        "id": "DVeXfe-Q0c_9"
      },
      "source": [
        "data['pub_rec'] = data.pub_rec.apply(pub_rec)\n",
        "data['mort_acc'] = data.mort_acc.apply(mort_acc)\n",
        "data['pub_rec_bankruptcies'] = data.pub_rec_bankruptcies.apply(pub_rec_bankruptcies)"
      ],
      "execution_count": 44,
      "outputs": []
    },
    {
      "cell_type": "code",
      "metadata": {
        "colab": {
          "base_uri": "https://localhost:8080/",
          "height": 873
        },
        "id": "ZvWVha9a0ikv",
        "outputId": "7ff61e0a-fc2a-4176-fb66-aca5ce0b66b3"
      },
      "source": [
        "plt.figure(figsize=(12, 30))\n",
        "\n",
        "plt.subplot(6, 2, 1)\n",
        "sns.countplot(x='pub_rec', data=data, hue='loan_status')\n",
        "\n",
        "plt.subplot(6, 2, 2)\n",
        "sns.countplot(x='initial_list_status', data=data, hue='loan_status')\n",
        "\n",
        "plt.subplot(6, 2, 3)\n",
        "sns.countplot(x='application_type', data=data, hue='loan_status')\n",
        "\n",
        "plt.subplot(6, 2, 4)\n",
        "sns.countplot(x='mort_acc', data=data, hue='loan_status')\n",
        "\n",
        "plt.subplot(6, 2, 5)\n",
        "sns.countplot(x='pub_rec_bankruptcies', data=data, hue='loan_status')"
      ],
      "execution_count": 45,
      "outputs": [
        {
          "output_type": "execute_result",
          "data": {
            "text/plain": [
              "<matplotlib.axes._subplots.AxesSubplot at 0x7f46f63765d0>"
            ]
          },
          "metadata": {
            "tags": []
          },
          "execution_count": 45
        },
        {
          "output_type": "display_data",
          "data": {
            "image/png": "[encoded data removed]",
            "text/plain": [
              "<Figure size 864x2160 with 5 Axes>"
            ]
          },
          "metadata": {
            "tags": [],
            "needs_background": "light"
          }
        }
      ]
    },
    {
      "cell_type": "code",
      "metadata": {
        "id": "EMDylt_J0o2r"
      },
      "source": [
        "data['loan_status'] = data.loan_status.map({'Fully Paid':0, 'Charged Off':1})\n"
      ],
      "execution_count": 46,
      "outputs": []
    },
    {
      "cell_type": "code",
      "metadata": {
        "colab": {
          "base_uri": "https://localhost:8080/",
          "height": 333
        },
        "id": "yx4rT-Wo0tNl",
        "outputId": "1ba591c2-8584-4980-ec91-b1f2acf07931"
      },
      "source": [
        "plt.figure(figsize=(8, 5))\n",
        "data.corr()['loan_status'].drop('loan_status').sort_values().plot(kind='barh')"
      ],
      "execution_count": 47,
      "outputs": [
        {
          "output_type": "execute_result",
          "data": {
            "text/plain": [
              "<matplotlib.axes._subplots.AxesSubplot at 0x7f46f4f7d150>"
            ]
          },
          "metadata": {
            "tags": []
          },
          "execution_count": 47
        },
        {
          "output_type": "display_data",
          "data": {
            "image/png": "[encoded data removed]",
            "text/plain": [
              "<Figure size 576x360 with 1 Axes>"
            ]
          },
          "metadata": {
            "tags": [],
            "needs_background": "light"
          }
        }
      ]
    },
    {
      "cell_type": "code",
      "metadata": {
        "id": "CG6x0T_f0ya1"
      },
      "source": [
        ""
      ],
      "execution_count": 46,
      "outputs": []
    },
    {
      "cell_type": "markdown",
      "metadata": {
        "id": "547ZETAT02GK"
      },
      "source": [
        "Conclusion:\n",
        "We notice that, there are broadly three types of features:\n",
        "\n",
        "Features related to the applicant (demographic variables such as occupation, employment details etc.),\n",
        "Features related to loan characteristics (amount of loan, interest rate, purpose of loan etc.)\n",
        "\n",
        "---\n",
        "\n"
      ]
    },
    {
      "cell_type": "markdown",
      "metadata": {
        "id": "68XgoX_QGDuG"
      },
      "source": [
        "Data PreProcessing\n",
        "Section Goals:\n",
        "\n",
        "Remove or fill any missing data.\n",
        "\n",
        "1.   Remove Unnecessary features\n",
        "2.   Convert categorical features to dummy variables\n",
        "\n",
        "\n"
      ]
    },
    {
      "cell_type": "code",
      "metadata": {
        "id": "44pPNFpe07Vn",
        "colab": {
          "base_uri": "https://localhost:8080/"
        },
        "outputId": "36305860-c89a-4585-e972-b986e62ecac1"
      },
      "source": [
        "\n",
        "print(f\"The Length of the data: {data.shape}\")"
      ],
      "execution_count": 48,
      "outputs": [
        {
          "output_type": "stream",
          "text": [
            "The Length of the data: (396030, 27)\n"
          ],
          "name": "stdout"
        }
      ]
    },
    {
      "cell_type": "code",
      "metadata": {
        "colab": {
          "base_uri": "https://localhost:8080/"
        },
        "id": "SVfQiBCjHuUR",
        "outputId": "cde38069-9821-4a73-81f1-1055beb05456"
      },
      "source": [
        "for column in data.columns:\n",
        "    if data[column].isna().sum() != 0:\n",
        "        missing = data[column].isna().sum()\n",
        "        portion = (missing / data.shape[0]) * 100\n",
        "        print(f\"'{column}': number of missing values '{missing}' ==> '{portion:.3f}%'\")"
      ],
      "execution_count": 49,
      "outputs": [
        {
          "output_type": "stream",
          "text": [
            "'emp_title': number of missing values '22927' ==> '5.789%'\n",
            "'emp_length': number of missing values '18301' ==> '4.621%'\n",
            "'title': number of missing values '1755' ==> '0.443%'\n",
            "'revol_util': number of missing values '276' ==> '0.070%'\n",
            "'mort_acc': number of missing values '37795' ==> '9.543%'\n",
            "'pub_rec_bankruptcies': number of missing values '535' ==> '0.135%'\n"
          ],
          "name": "stdout"
        }
      ]
    },
    {
      "cell_type": "code",
      "metadata": {
        "colab": {
          "base_uri": "https://localhost:8080/"
        },
        "id": "qAbv5lZ8IDn2",
        "outputId": "c17d888a-6133-479d-fcf5-1932fb55d02f"
      },
      "source": [
        "data.emp_title.nunique()\n"
      ],
      "execution_count": 50,
      "outputs": [
        {
          "output_type": "execute_result",
          "data": {
            "text/plain": [
              "139595"
            ]
          },
          "metadata": {
            "tags": []
          },
          "execution_count": 50
        }
      ]
    },
    {
      "cell_type": "markdown",
      "metadata": {
        "id": "Aewn0dhCIM1e"
      },
      "source": [
        "Realistically there are too many unique job titles to try to convert this to a dummy variable feature. Let's remove that emp_title column."
      ]
    },
    {
      "cell_type": "code",
      "metadata": {
        "id": "XYXP1L9WIHaD"
      },
      "source": [
        "data.drop('emp_title', axis=1, inplace=True)"
      ],
      "execution_count": 51,
      "outputs": []
    },
    {
      "cell_type": "code",
      "metadata": {
        "colab": {
          "base_uri": "https://localhost:8080/"
        },
        "id": "2fkC9nlqITOH",
        "outputId": "351551f2-b29c-4778-851d-7fceadc12d20"
      },
      "source": [
        "data.emp_length.unique()\n"
      ],
      "execution_count": 52,
      "outputs": [
        {
          "output_type": "execute_result",
          "data": {
            "text/plain": [
              "array(['10+ years', '4 years', '< 1 year', '6 years', '9 years',\n",
              "       '2 years', '3 years', '8 years', '7 years', '5 years', '1 year',\n",
              "       nan], dtype=object)"
            ]
          },
          "metadata": {
            "tags": []
          },
          "execution_count": 52
        }
      ]
    },
    {
      "cell_type": "code",
      "metadata": {
        "colab": {
          "base_uri": "https://localhost:8080/"
        },
        "id": "Gtj8PoxvIX9H",
        "outputId": "a3cd1fd8-975f-4ebc-c069-e1cc58885c12"
      },
      "source": [
        "for year in data.emp_length.unique():\n",
        "    print(f\"{year} years in this position:\")\n",
        "    print(f\"{data[data.emp_length == year].loan_status.value_counts(normalize=True)}\")\n",
        "    print('==========================================')"
      ],
      "execution_count": 53,
      "outputs": [
        {
          "output_type": "stream",
          "text": [
            "10+ years years in this position:\n",
            "0   0.82\n",
            "1   0.18\n",
            "Name: loan_status, dtype: float64\n",
            "==========================================\n",
            "4 years years in this position:\n",
            "0   0.81\n",
            "1   0.19\n",
            "Name: loan_status, dtype: float64\n",
            "==========================================\n",
            "< 1 year years in this position:\n",
            "0   0.79\n",
            "1   0.21\n",
            "Name: loan_status, dtype: float64\n",
            "==========================================\n",
            "6 years years in this position:\n",
            "0   0.81\n",
            "1   0.19\n",
            "Name: loan_status, dtype: float64\n",
            "==========================================\n",
            "9 years years in this position:\n",
            "0   0.80\n",
            "1   0.20\n",
            "Name: loan_status, dtype: float64\n",
            "==========================================\n",
            "2 years years in this position:\n",
            "0   0.81\n",
            "1   0.19\n",
            "Name: loan_status, dtype: float64\n",
            "==========================================\n",
            "3 years years in this position:\n",
            "0   0.80\n",
            "1   0.20\n",
            "Name: loan_status, dtype: float64\n",
            "==========================================\n",
            "8 years years in this position:\n",
            "0   0.80\n",
            "1   0.20\n",
            "Name: loan_status, dtype: float64\n",
            "==========================================\n",
            "7 years years in this position:\n",
            "0   0.81\n",
            "1   0.19\n",
            "Name: loan_status, dtype: float64\n",
            "==========================================\n",
            "5 years years in this position:\n",
            "0   0.81\n",
            "1   0.19\n",
            "Name: loan_status, dtype: float64\n",
            "==========================================\n",
            "1 year years in this position:\n",
            "0   0.80\n",
            "1   0.20\n",
            "Name: loan_status, dtype: float64\n",
            "==========================================\n",
            "nan years in this position:\n",
            "Series([], Name: loan_status, dtype: float64)\n",
            "==========================================\n"
          ],
          "name": "stdout"
        }
      ]
    },
    {
      "cell_type": "markdown",
      "metadata": {
        "id": "PXjUVJ8-Iqcd"
      },
      "source": [
        "Charge off rates are extremely similar across all employment lengths. So we are going to drop the emp_length column."
      ]
    },
    {
      "cell_type": "code",
      "metadata": {
        "id": "fHdhN6J2IlUG"
      },
      "source": [
        "data.drop('emp_length', axis=1, inplace=True)"
      ],
      "execution_count": 54,
      "outputs": []
    },
    {
      "cell_type": "code",
      "metadata": {
        "colab": {
          "base_uri": "https://localhost:8080/"
        },
        "id": "dL6UZcX6IvoY",
        "outputId": "b483bcf2-16dd-4901-f4d2-24b81d7e9b19"
      },
      "source": [
        "data.title.value_counts().head()\n"
      ],
      "execution_count": 55,
      "outputs": [
        {
          "output_type": "execute_result",
          "data": {
            "text/plain": [
              "debt consolidation         168108\n",
              "credit card refinancing     51781\n",
              "home improvement            17117\n",
              "other                       12993\n",
              "consolidation                5583\n",
              "Name: title, dtype: int64"
            ]
          },
          "metadata": {
            "tags": []
          },
          "execution_count": 55
        }
      ]
    },
    {
      "cell_type": "code",
      "metadata": {
        "colab": {
          "base_uri": "https://localhost:8080/"
        },
        "id": "6DrwIEayIz6Z",
        "outputId": "60a7ffbe-9758-40d5-ad31-aa6d5691d9dc"
      },
      "source": [
        "data.purpose.value_counts().head()\n"
      ],
      "execution_count": 56,
      "outputs": [
        {
          "output_type": "execute_result",
          "data": {
            "text/plain": [
              "debt_consolidation    234507\n",
              "credit_card            83019\n",
              "home_improvement       24030\n",
              "other                  21185\n",
              "major_purchase          8790\n",
              "Name: purpose, dtype: int64"
            ]
          },
          "metadata": {
            "tags": []
          },
          "execution_count": 56
        }
      ]
    },
    {
      "cell_type": "markdown",
      "metadata": {
        "id": "CdEMPNxOI4wX"
      },
      "source": [
        "The title column is simply a string subcategory/description of the purpose column. So we are going to drop the title column."
      ]
    },
    {
      "cell_type": "code",
      "metadata": {
        "id": "ubqwJ_AkI_Tq"
      },
      "source": [
        "data.drop('title', axis=1, inplace=True)"
      ],
      "execution_count": 57,
      "outputs": []
    },
    {
      "cell_type": "markdown",
      "metadata": {
        "id": "ekxeqDCCJI48"
      },
      "source": [
        "There are many ways we could deal with this missing data. We could attempt to build a simple model to fill it in, such as a linear model, we could just fill it in based on the mean of the other columns, or you could even bin the columns into categories and then set NaN as its own category. There is no 100% correct approach!\n",
        "\n",
        "Let's review the other columsn to see which most highly correlates to mort_acc"
      ]
    },
    {
      "cell_type": "code",
      "metadata": {
        "colab": {
          "base_uri": "https://localhost:8080/"
        },
        "id": "MRbVX9m0JLvP",
        "outputId": "52b1e0ed-4a2d-4077-d0c1-ca2c828322ae"
      },
      "source": [
        "data.mort_acc.value_counts()"
      ],
      "execution_count": 58,
      "outputs": [
        {
          "output_type": "execute_result",
          "data": {
            "text/plain": [
              "1.00    218458\n",
              "0.00    139777\n",
              "Name: mort_acc, dtype: int64"
            ]
          },
          "metadata": {
            "tags": []
          },
          "execution_count": 58
        }
      ]
    },
    {
      "cell_type": "code",
      "metadata": {
        "colab": {
          "base_uri": "https://localhost:8080/"
        },
        "id": "TlnowK4cJPRO",
        "outputId": "3f887d12-603f-4647-90aa-d9dfbd20c0a1"
      },
      "source": [
        "data.mort_acc.isna().sum()"
      ],
      "execution_count": 59,
      "outputs": [
        {
          "output_type": "execute_result",
          "data": {
            "text/plain": [
              "37795"
            ]
          },
          "metadata": {
            "tags": []
          },
          "execution_count": 59
        }
      ]
    },
    {
      "cell_type": "code",
      "metadata": {
        "colab": {
          "base_uri": "https://localhost:8080/"
        },
        "id": "5oe60mS0JiCO",
        "outputId": "2452e488-f25e-4cf0-b0b5-7c07c7146c70"
      },
      "source": [
        "data.corr()['mort_acc']"
      ],
      "execution_count": 60,
      "outputs": [
        {
          "output_type": "execute_result",
          "data": {
            "text/plain": [
              "loan_amnt               0.21\n",
              "int_rate               -0.09\n",
              "installment             0.18\n",
              "annual_inc              0.20\n",
              "loan_status            -0.07\n",
              "dti                    -0.02\n",
              "open_acc                0.12\n",
              "pub_rec                 0.05\n",
              "revol_bal               0.17\n",
              "revol_util              0.00\n",
              "total_acc               0.30\n",
              "mort_acc                1.00\n",
              "pub_rec_bankruptcies    0.05\n",
              "Name: mort_acc, dtype: float64"
            ]
          },
          "metadata": {
            "tags": []
          },
          "execution_count": 60
        }
      ]
    },
    {
      "cell_type": "code",
      "metadata": {
        "colab": {
          "base_uri": "https://localhost:8080/",
          "height": 333
        },
        "id": "i0WfoSmJJS5B",
        "outputId": "b8866322-1674-446b-ae21-17b8927005da"
      },
      "source": [
        "plt.figure(figsize=(8, 5))\n",
        "data.corr()['mort_acc'].drop('mort_acc').sort_values().plot(kind='barh')"
      ],
      "execution_count": 61,
      "outputs": [
        {
          "output_type": "execute_result",
          "data": {
            "text/plain": [
              "<matplotlib.axes._subplots.AxesSubplot at 0x7f46d9776e50>"
            ]
          },
          "metadata": {
            "tags": []
          },
          "execution_count": 61
        },
        {
          "output_type": "display_data",
          "data": {
            "image/png": "[encoded data removed]",
            "text/plain": [
              "<Figure size 576x360 with 1 Axes>"
            ]
          },
          "metadata": {
            "tags": [],
            "needs_background": "light"
          }
        }
      ]
    },
    {
      "cell_type": "markdown",
      "metadata": {
        "id": "jJOE0HjkJ0Kx"
      },
      "source": [
        "Looks like the total_acc feature correlates with the mort_acc , this makes sense! Let's try this fillna() approach. We will group the dataframe by the total_acc and calculate the mean value for the mort_acc per total_acc entry. To get the result below:"
      ]
    },
    {
      "cell_type": "code",
      "metadata": {
        "id": "C9vMtMmAJ1io"
      },
      "source": [
        "total_acc_avg = data.groupby(by='total_acc').mean().mort_acc\n"
      ],
      "execution_count": 62,
      "outputs": []
    },
    {
      "cell_type": "code",
      "metadata": {
        "id": "Q4dqX1AsJ56A"
      },
      "source": [
        "def fill_mort_acc(total_acc, mort_acc):\n",
        "    if np.isnan(mort_acc):\n",
        "        return total_acc_avg[total_acc].round()\n",
        "    else:\n",
        "        return mort_acc"
      ],
      "execution_count": 64,
      "outputs": []
    },
    {
      "cell_type": "code",
      "metadata": {
        "id": "T7bdFSFmKA08"
      },
      "source": [
        "data['mort_acc'] = data.apply(lambda x: fill_mort_acc(x['total_acc'], x['mort_acc']), axis=1)"
      ],
      "execution_count": 65,
      "outputs": []
    },
    {
      "cell_type": "markdown",
      "metadata": {
        "id": "B3Aya0gMKPZb"
      },
      "source": [
        "evol_util & pub_rec_bankruptcies\n",
        "These two features have missing data points, but they account for less than 0.5% of the total data. So we are going to remove the rows that are missing those values in those columns with dropna().\n",
        "\n"
      ]
    },
    {
      "cell_type": "code",
      "metadata": {
        "colab": {
          "base_uri": "https://localhost:8080/"
        },
        "id": "pnsK8fp_KVzD",
        "outputId": "091332e5-effb-4ef9-b7a6-c2f47bf685a6"
      },
      "source": [
        "for column in data.columns:\n",
        "    if data[column].isna().sum() != 0:\n",
        "        missing = data[column].isna().sum()\n",
        "        portion = (missing / data.shape[0]) * 100\n",
        "        print(f\"'{column}': number of missing values '{missing}' ==> '{portion:.3f}%'\")"
      ],
      "execution_count": 66,
      "outputs": [
        {
          "output_type": "stream",
          "text": [
            "'revol_util': number of missing values '276' ==> '0.070%'\n",
            "'pub_rec_bankruptcies': number of missing values '535' ==> '0.135%'\n"
          ],
          "name": "stdout"
        }
      ]
    },
    {
      "cell_type": "code",
      "metadata": {
        "id": "fD4yPGL0Kfew"
      },
      "source": [
        "data.dropna(inplace=True)\n"
      ],
      "execution_count": 67,
      "outputs": []
    },
    {
      "cell_type": "code",
      "metadata": {
        "colab": {
          "base_uri": "https://localhost:8080/"
        },
        "id": "koontbe2KiL9",
        "outputId": "e421ca14-fe4a-46df-ba18-3c56d55f2aca"
      },
      "source": [
        "data.shape\n"
      ],
      "execution_count": 68,
      "outputs": [
        {
          "output_type": "execute_result",
          "data": {
            "text/plain": [
              "(395219, 24)"
            ]
          },
          "metadata": {
            "tags": []
          },
          "execution_count": 68
        }
      ]
    },
    {
      "cell_type": "markdown",
      "metadata": {
        "id": "fthCgwFHKkuS"
      },
      "source": [
        "**Categorical Variables and Dummy** **Variables** "
      ]
    },
    {
      "cell_type": "code",
      "metadata": {
        "colab": {
          "base_uri": "https://localhost:8080/"
        },
        "id": "4nLPJpcJKuwu",
        "outputId": "89bfc6b4-e81e-4647-ea55-f0eb4419055b"
      },
      "source": [
        "print([column for column in data.columns if data[column].dtype == object])"
      ],
      "execution_count": 69,
      "outputs": [
        {
          "output_type": "stream",
          "text": [
            "['term', 'grade', 'sub_grade', 'home_ownership', 'verification_status', 'issue_d', 'purpose', 'earliest_cr_line', 'initial_list_status', 'application_type', 'address']\n"
          ],
          "name": "stdout"
        }
      ]
    },
    {
      "cell_type": "code",
      "metadata": {
        "colab": {
          "base_uri": "https://localhost:8080/"
        },
        "id": "J7hcvei5K_es",
        "outputId": "ee4c9305-51b3-48f8-d5d9-2196b56c98a1"
      },
      "source": [
        "data.term.unique()"
      ],
      "execution_count": 70,
      "outputs": [
        {
          "output_type": "execute_result",
          "data": {
            "text/plain": [
              "array([' 36 months', ' 60 months'], dtype=object)"
            ]
          },
          "metadata": {
            "tags": []
          },
          "execution_count": 70
        }
      ]
    },
    {
      "cell_type": "code",
      "metadata": {
        "id": "GBQLtOMrUTAa"
      },
      "source": [
        "data.drop('grade', axis=1, inplace=True)\n"
      ],
      "execution_count": 71,
      "outputs": []
    },
    {
      "cell_type": "markdown",
      "metadata": {
        "id": "3RQPaQH2Uabu"
      },
      "source": [
        "We know that grade is just a sub feature of sub_grade, So we are goinig to drop it."
      ]
    },
    {
      "cell_type": "code",
      "metadata": {
        "id": "Z7mTq-97UbeS"
      },
      "source": [
        "dummies = ['sub_grade', 'verification_status', 'purpose', 'initial_list_status', \n",
        "           'application_type', 'home_ownership']\n",
        "data = pd.get_dummies(data, columns=dummies, drop_first=True)"
      ],
      "execution_count": 72,
      "outputs": []
    },
    {
      "cell_type": "code",
      "metadata": {
        "colab": {
          "base_uri": "https://localhost:8080/",
          "height": 440
        },
        "id": "wlmDmRZ_Ul99",
        "outputId": "706b5cd6-a01d-4d3e-b8eb-47612b558391"
      },
      "source": [
        "data.head()\n"
      ],
      "execution_count": 73,
      "outputs": [
        {
          "output_type": "execute_result",
          "data": {
            "text/html": [
              "<div>\n",
              "<style scoped>\n",
              "    .dataframe tbody tr th:only-of-type {\n",
              "        vertical-align: middle;\n",
              "    }\n",
              "\n",
              "    .dataframe tbody tr th {\n",
              "        vertical-align: top;\n",
              "    }\n",
              "\n",
              "    .dataframe thead th {\n",
              "        text-align: right;\n",
              "    }\n",
              "</style>\n",
              "<table border=\"1\" class=\"dataframe\">\n",
              "  <thead>\n",
              "    <tr style=\"text-align: right;\">\n",
              "      <th></th>\n",
              "      <th>loan_amnt</th>\n",
              "      <th>term</th>\n",
              "      <th>int_rate</th>\n",
              "      <th>installment</th>\n",
              "      <th>annual_inc</th>\n",
              "      <th>issue_d</th>\n",
              "      <th>loan_status</th>\n",
              "      <th>dti</th>\n",
              "      <th>earliest_cr_line</th>\n",
              "      <th>open_acc</th>\n",
              "      <th>pub_rec</th>\n",
              "      <th>revol_bal</th>\n",
              "      <th>revol_util</th>\n",
              "      <th>total_acc</th>\n",
              "      <th>mort_acc</th>\n",
              "      <th>pub_rec_bankruptcies</th>\n",
              "      <th>address</th>\n",
              "      <th>sub_grade_A2</th>\n",
              "      <th>sub_grade_A3</th>\n",
              "      <th>sub_grade_A4</th>\n",
              "      <th>sub_grade_A5</th>\n",
              "      <th>sub_grade_B1</th>\n",
              "      <th>sub_grade_B2</th>\n",
              "      <th>sub_grade_B3</th>\n",
              "      <th>sub_grade_B4</th>\n",
              "      <th>...</th>\n",
              "      <th>sub_grade_G2</th>\n",
              "      <th>sub_grade_G3</th>\n",
              "      <th>sub_grade_G4</th>\n",
              "      <th>sub_grade_G5</th>\n",
              "      <th>verification_status_Source Verified</th>\n",
              "      <th>verification_status_Verified</th>\n",
              "      <th>purpose_credit_card</th>\n",
              "      <th>purpose_debt_consolidation</th>\n",
              "      <th>purpose_educational</th>\n",
              "      <th>purpose_home_improvement</th>\n",
              "      <th>purpose_house</th>\n",
              "      <th>purpose_major_purchase</th>\n",
              "      <th>purpose_medical</th>\n",
              "      <th>purpose_moving</th>\n",
              "      <th>purpose_other</th>\n",
              "      <th>purpose_renewable_energy</th>\n",
              "      <th>purpose_small_business</th>\n",
              "      <th>purpose_vacation</th>\n",
              "      <th>purpose_wedding</th>\n",
              "      <th>initial_list_status_w</th>\n",
              "      <th>application_type_INDIVIDUAL</th>\n",
              "      <th>application_type_JOINT</th>\n",
              "      <th>home_ownership_OTHER</th>\n",
              "      <th>home_ownership_OWN</th>\n",
              "      <th>home_ownership_RENT</th>\n",
              "    </tr>\n",
              "  </thead>\n",
              "  <tbody>\n",
              "    <tr>\n",
              "      <th>0</th>\n",
              "      <td>10000.00</td>\n",
              "      <td>36 months</td>\n",
              "      <td>11.44</td>\n",
              "      <td>329.48</td>\n",
              "      <td>117000.00</td>\n",
              "      <td>Jan-2015</td>\n",
              "      <td>0</td>\n",
              "      <td>26.24</td>\n",
              "      <td>Jun-1990</td>\n",
              "      <td>16.00</td>\n",
              "      <td>0</td>\n",
              "      <td>36369.00</td>\n",
              "      <td>41.80</td>\n",
              "      <td>25.00</td>\n",
              "      <td>0.00</td>\n",
              "      <td>0.00</td>\n",
              "      <td>0174 Michelle Gateway\\r\\nMendozaberg, OK 22690</td>\n",
              "      <td>0</td>\n",
              "      <td>0</td>\n",
              "      <td>0</td>\n",
              "      <td>0</td>\n",
              "      <td>0</td>\n",
              "      <td>0</td>\n",
              "      <td>0</td>\n",
              "      <td>1</td>\n",
              "      <td>...</td>\n",
              "      <td>0</td>\n",
              "      <td>0</td>\n",
              "      <td>0</td>\n",
              "      <td>0</td>\n",
              "      <td>0</td>\n",
              "      <td>0</td>\n",
              "      <td>0</td>\n",
              "      <td>0</td>\n",
              "      <td>0</td>\n",
              "      <td>0</td>\n",
              "      <td>0</td>\n",
              "      <td>0</td>\n",
              "      <td>0</td>\n",
              "      <td>0</td>\n",
              "      <td>0</td>\n",
              "      <td>0</td>\n",
              "      <td>0</td>\n",
              "      <td>1</td>\n",
              "      <td>0</td>\n",
              "      <td>1</td>\n",
              "      <td>1</td>\n",
              "      <td>0</td>\n",
              "      <td>0</td>\n",
              "      <td>0</td>\n",
              "      <td>1</td>\n",
              "    </tr>\n",
              "    <tr>\n",
              "      <th>1</th>\n",
              "      <td>8000.00</td>\n",
              "      <td>36 months</td>\n",
              "      <td>11.99</td>\n",
              "      <td>265.68</td>\n",
              "      <td>65000.00</td>\n",
              "      <td>Jan-2015</td>\n",
              "      <td>0</td>\n",
              "      <td>22.05</td>\n",
              "      <td>Jul-2004</td>\n",
              "      <td>17.00</td>\n",
              "      <td>0</td>\n",
              "      <td>20131.00</td>\n",
              "      <td>53.30</td>\n",
              "      <td>27.00</td>\n",
              "      <td>1.00</td>\n",
              "      <td>0.00</td>\n",
              "      <td>1076 Carney Fort Apt. 347\\r\\nLoganmouth, SD 05113</td>\n",
              "      <td>0</td>\n",
              "      <td>0</td>\n",
              "      <td>0</td>\n",
              "      <td>0</td>\n",
              "      <td>0</td>\n",
              "      <td>0</td>\n",
              "      <td>0</td>\n",
              "      <td>0</td>\n",
              "      <td>...</td>\n",
              "      <td>0</td>\n",
              "      <td>0</td>\n",
              "      <td>0</td>\n",
              "      <td>0</td>\n",
              "      <td>0</td>\n",
              "      <td>0</td>\n",
              "      <td>0</td>\n",
              "      <td>1</td>\n",
              "      <td>0</td>\n",
              "      <td>0</td>\n",
              "      <td>0</td>\n",
              "      <td>0</td>\n",
              "      <td>0</td>\n",
              "      <td>0</td>\n",
              "      <td>0</td>\n",
              "      <td>0</td>\n",
              "      <td>0</td>\n",
              "      <td>0</td>\n",
              "      <td>0</td>\n",
              "      <td>0</td>\n",
              "      <td>1</td>\n",
              "      <td>0</td>\n",
              "      <td>0</td>\n",
              "      <td>0</td>\n",
              "      <td>0</td>\n",
              "    </tr>\n",
              "    <tr>\n",
              "      <th>2</th>\n",
              "      <td>15600.00</td>\n",
              "      <td>36 months</td>\n",
              "      <td>10.49</td>\n",
              "      <td>506.97</td>\n",
              "      <td>43057.00</td>\n",
              "      <td>Jan-2015</td>\n",
              "      <td>0</td>\n",
              "      <td>12.79</td>\n",
              "      <td>Aug-2007</td>\n",
              "      <td>13.00</td>\n",
              "      <td>0</td>\n",
              "      <td>11987.00</td>\n",
              "      <td>92.20</td>\n",
              "      <td>26.00</td>\n",
              "      <td>0.00</td>\n",
              "      <td>0.00</td>\n",
              "      <td>87025 Mark Dale Apt. 269\\r\\nNew Sabrina, WV 05113</td>\n",
              "      <td>0</td>\n",
              "      <td>0</td>\n",
              "      <td>0</td>\n",
              "      <td>0</td>\n",
              "      <td>0</td>\n",
              "      <td>0</td>\n",
              "      <td>1</td>\n",
              "      <td>0</td>\n",
              "      <td>...</td>\n",
              "      <td>0</td>\n",
              "      <td>0</td>\n",
              "      <td>0</td>\n",
              "      <td>0</td>\n",
              "      <td>1</td>\n",
              "      <td>0</td>\n",
              "      <td>1</td>\n",
              "      <td>0</td>\n",
              "      <td>0</td>\n",
              "      <td>0</td>\n",
              "      <td>0</td>\n",
              "      <td>0</td>\n",
              "      <td>0</td>\n",
              "      <td>0</td>\n",
              "      <td>0</td>\n",
              "      <td>0</td>\n",
              "      <td>0</td>\n",
              "      <td>0</td>\n",
              "      <td>0</td>\n",
              "      <td>0</td>\n",
              "      <td>1</td>\n",
              "      <td>0</td>\n",
              "      <td>0</td>\n",
              "      <td>0</td>\n",
              "      <td>1</td>\n",
              "    </tr>\n",
              "    <tr>\n",
              "      <th>3</th>\n",
              "      <td>7200.00</td>\n",
              "      <td>36 months</td>\n",
              "      <td>6.49</td>\n",
              "      <td>220.65</td>\n",
              "      <td>54000.00</td>\n",
              "      <td>Nov-2014</td>\n",
              "      <td>0</td>\n",
              "      <td>2.60</td>\n",
              "      <td>Sep-2006</td>\n",
              "      <td>6.00</td>\n",
              "      <td>0</td>\n",
              "      <td>5472.00</td>\n",
              "      <td>21.50</td>\n",
              "      <td>13.00</td>\n",
              "      <td>0.00</td>\n",
              "      <td>0.00</td>\n",
              "      <td>823 Reid Ford\\r\\nDelacruzside, MA 00813</td>\n",
              "      <td>1</td>\n",
              "      <td>0</td>\n",
              "      <td>0</td>\n",
              "      <td>0</td>\n",
              "      <td>0</td>\n",
              "      <td>0</td>\n",
              "      <td>0</td>\n",
              "      <td>0</td>\n",
              "      <td>...</td>\n",
              "      <td>0</td>\n",
              "      <td>0</td>\n",
              "      <td>0</td>\n",
              "      <td>0</td>\n",
              "      <td>0</td>\n",
              "      <td>0</td>\n",
              "      <td>1</td>\n",
              "      <td>0</td>\n",
              "      <td>0</td>\n",
              "      <td>0</td>\n",
              "      <td>0</td>\n",
              "      <td>0</td>\n",
              "      <td>0</td>\n",
              "      <td>0</td>\n",
              "      <td>0</td>\n",
              "      <td>0</td>\n",
              "      <td>0</td>\n",
              "      <td>0</td>\n",
              "      <td>0</td>\n",
              "      <td>0</td>\n",
              "      <td>1</td>\n",
              "      <td>0</td>\n",
              "      <td>0</td>\n",
              "      <td>0</td>\n",
              "      <td>1</td>\n",
              "    </tr>\n",
              "    <tr>\n",
              "      <th>4</th>\n",
              "      <td>24375.00</td>\n",
              "      <td>60 months</td>\n",
              "      <td>17.27</td>\n",
              "      <td>609.33</td>\n",
              "      <td>55000.00</td>\n",
              "      <td>Apr-2013</td>\n",
              "      <td>1</td>\n",
              "      <td>33.95</td>\n",
              "      <td>Mar-1999</td>\n",
              "      <td>13.00</td>\n",
              "      <td>0</td>\n",
              "      <td>24584.00</td>\n",
              "      <td>69.80</td>\n",
              "      <td>43.00</td>\n",
              "      <td>1.00</td>\n",
              "      <td>0.00</td>\n",
              "      <td>679 Luna Roads\\r\\nGreggshire, VA 11650</td>\n",
              "      <td>0</td>\n",
              "      <td>0</td>\n",
              "      <td>0</td>\n",
              "      <td>0</td>\n",
              "      <td>0</td>\n",
              "      <td>0</td>\n",
              "      <td>0</td>\n",
              "      <td>0</td>\n",
              "      <td>...</td>\n",
              "      <td>0</td>\n",
              "      <td>0</td>\n",
              "      <td>0</td>\n",
              "      <td>0</td>\n",
              "      <td>0</td>\n",
              "      <td>1</td>\n",
              "      <td>1</td>\n",
              "      <td>0</td>\n",
              "      <td>0</td>\n",
              "      <td>0</td>\n",
              "      <td>0</td>\n",
              "      <td>0</td>\n",
              "      <td>0</td>\n",
              "      <td>0</td>\n",
              "      <td>0</td>\n",
              "      <td>0</td>\n",
              "      <td>0</td>\n",
              "      <td>0</td>\n",
              "      <td>0</td>\n",
              "      <td>0</td>\n",
              "      <td>1</td>\n",
              "      <td>0</td>\n",
              "      <td>0</td>\n",
              "      <td>0</td>\n",
              "      <td>0</td>\n",
              "    </tr>\n",
              "  </tbody>\n",
              "</table>\n",
              "<p>5 rows × 72 columns</p>\n",
              "</div>"
            ],
            "text/plain": [
              "   loan_amnt        term  int_rate  installment  annual_inc   issue_d  \\\n",
              "0   10000.00   36 months     11.44       329.48   117000.00  Jan-2015   \n",
              "1    8000.00   36 months     11.99       265.68    65000.00  Jan-2015   \n",
              "2   15600.00   36 months     10.49       506.97    43057.00  Jan-2015   \n",
              "3    7200.00   36 months      6.49       220.65    54000.00  Nov-2014   \n",
              "4   24375.00   60 months     17.27       609.33    55000.00  Apr-2013   \n",
              "\n",
              "   loan_status   dti earliest_cr_line  open_acc  pub_rec  revol_bal  \\\n",
              "0            0 26.24         Jun-1990     16.00        0   36369.00   \n",
              "1            0 22.05         Jul-2004     17.00        0   20131.00   \n",
              "2            0 12.79         Aug-2007     13.00        0   11987.00   \n",
              "3            0  2.60         Sep-2006      6.00        0    5472.00   \n",
              "4            1 33.95         Mar-1999     13.00        0   24584.00   \n",
              "\n",
              "   revol_util  total_acc  mort_acc  pub_rec_bankruptcies  \\\n",
              "0       41.80      25.00      0.00                  0.00   \n",
              "1       53.30      27.00      1.00                  0.00   \n",
              "2       92.20      26.00      0.00                  0.00   \n",
              "3       21.50      13.00      0.00                  0.00   \n",
              "4       69.80      43.00      1.00                  0.00   \n",
              "\n",
              "                                             address  sub_grade_A2  \\\n",
              "0     0174 Michelle Gateway\\r\\nMendozaberg, OK 22690             0   \n",
              "1  1076 Carney Fort Apt. 347\\r\\nLoganmouth, SD 05113             0   \n",
              "2  87025 Mark Dale Apt. 269\\r\\nNew Sabrina, WV 05113             0   \n",
              "3            823 Reid Ford\\r\\nDelacruzside, MA 00813             1   \n",
              "4             679 Luna Roads\\r\\nGreggshire, VA 11650             0   \n",
              "\n",
              "   sub_grade_A3  sub_grade_A4  sub_grade_A5  sub_grade_B1  sub_grade_B2  \\\n",
              "0             0             0             0             0             0   \n",
              "1             0             0             0             0             0   \n",
              "2             0             0             0             0             0   \n",
              "3             0             0             0             0             0   \n",
              "4             0             0             0             0             0   \n",
              "\n",
              "   sub_grade_B3  sub_grade_B4  ...  sub_grade_G2  sub_grade_G3  sub_grade_G4  \\\n",
              "0             0             1  ...             0             0             0   \n",
              "1             0             0  ...             0             0             0   \n",
              "2             1             0  ...             0             0             0   \n",
              "3             0             0  ...             0             0             0   \n",
              "4             0             0  ...             0             0             0   \n",
              "\n",
              "   sub_grade_G5  verification_status_Source Verified  \\\n",
              "0             0                                    0   \n",
              "1             0                                    0   \n",
              "2             0                                    1   \n",
              "3             0                                    0   \n",
              "4             0                                    0   \n",
              "\n",
              "   verification_status_Verified  purpose_credit_card  \\\n",
              "0                             0                    0   \n",
              "1                             0                    0   \n",
              "2                             0                    1   \n",
              "3                             0                    1   \n",
              "4                             1                    1   \n",
              "\n",
              "   purpose_debt_consolidation  purpose_educational  purpose_home_improvement  \\\n",
              "0                           0                    0                         0   \n",
              "1                           1                    0                         0   \n",
              "2                           0                    0                         0   \n",
              "3                           0                    0                         0   \n",
              "4                           0                    0                         0   \n",
              "\n",
              "   purpose_house  purpose_major_purchase  purpose_medical  purpose_moving  \\\n",
              "0              0                       0                0               0   \n",
              "1              0                       0                0               0   \n",
              "2              0                       0                0               0   \n",
              "3              0                       0                0               0   \n",
              "4              0                       0                0               0   \n",
              "\n",
              "   purpose_other  purpose_renewable_energy  purpose_small_business  \\\n",
              "0              0                         0                       0   \n",
              "1              0                         0                       0   \n",
              "2              0                         0                       0   \n",
              "3              0                         0                       0   \n",
              "4              0                         0                       0   \n",
              "\n",
              "   purpose_vacation  purpose_wedding  initial_list_status_w  \\\n",
              "0                 1                0                      1   \n",
              "1                 0                0                      0   \n",
              "2                 0                0                      0   \n",
              "3                 0                0                      0   \n",
              "4                 0                0                      0   \n",
              "\n",
              "   application_type_INDIVIDUAL  application_type_JOINT  home_ownership_OTHER  \\\n",
              "0                            1                       0                     0   \n",
              "1                            1                       0                     0   \n",
              "2                            1                       0                     0   \n",
              "3                            1                       0                     0   \n",
              "4                            1                       0                     0   \n",
              "\n",
              "   home_ownership_OWN  home_ownership_RENT  \n",
              "0                   0                    1  \n",
              "1                   0                    0  \n",
              "2                   0                    1  \n",
              "3                   0                    1  \n",
              "4                   0                    0  \n",
              "\n",
              "[5 rows x 72 columns]"
            ]
          },
          "metadata": {
            "tags": []
          },
          "execution_count": 73
        }
      ]
    },
    {
      "cell_type": "markdown",
      "metadata": {
        "id": "unLBdcUHUyYw"
      },
      "source": [
        "address\n",
        "We are going to feature engineer a zip code column from the address in the data set. Create a column called 'zip_code' that extracts the zip code from the address column."
      ]
    },
    {
      "cell_type": "code",
      "metadata": {
        "colab": {
          "base_uri": "https://localhost:8080/"
        },
        "id": "WGcFueWBU0Fh",
        "outputId": "033a5b25-bc5d-4366-dca0-2a7e0db37d0a"
      },
      "source": [
        "data.address.head()\n"
      ],
      "execution_count": 74,
      "outputs": [
        {
          "output_type": "execute_result",
          "data": {
            "text/plain": [
              "0       0174 Michelle Gateway\\r\\nMendozaberg, OK 22690\n",
              "1    1076 Carney Fort Apt. 347\\r\\nLoganmouth, SD 05113\n",
              "2    87025 Mark Dale Apt. 269\\r\\nNew Sabrina, WV 05113\n",
              "3              823 Reid Ford\\r\\nDelacruzside, MA 00813\n",
              "4               679 Luna Roads\\r\\nGreggshire, VA 11650\n",
              "Name: address, dtype: object"
            ]
          },
          "metadata": {
            "tags": []
          },
          "execution_count": 74
        }
      ]
    },
    {
      "cell_type": "code",
      "metadata": {
        "id": "udO9BeBMU6RF"
      },
      "source": [
        "data['zip_code'] = data.address.apply(lambda x: x[-5:])\n"
      ],
      "execution_count": 75,
      "outputs": []
    },
    {
      "cell_type": "code",
      "metadata": {
        "colab": {
          "base_uri": "https://localhost:8080/"
        },
        "id": "6qLFLWC0U9-g",
        "outputId": "a0741584-c73b-4050-f044-ad6d50a3e840"
      },
      "source": [
        "data.zip_code.value_counts()\n"
      ],
      "execution_count": 76,
      "outputs": [
        {
          "output_type": "execute_result",
          "data": {
            "text/plain": [
              "70466    56880\n",
              "22690    56413\n",
              "30723    56402\n",
              "48052    55811\n",
              "00813    45725\n",
              "29597    45393\n",
              "05113    45300\n",
              "11650    11210\n",
              "93700    11126\n",
              "86630    10959\n",
              "Name: zip_code, dtype: int64"
            ]
          },
          "metadata": {
            "tags": []
          },
          "execution_count": 76
        }
      ]
    },
    {
      "cell_type": "code",
      "metadata": {
        "id": "_d0PacUXVDtp"
      },
      "source": [
        "data = pd.get_dummies(data, columns=['zip_code'], drop_first=True)\n"
      ],
      "execution_count": 77,
      "outputs": []
    },
    {
      "cell_type": "code",
      "metadata": {
        "id": "tzz-RFVmVK8k"
      },
      "source": [
        "data.drop('address', axis=1, inplace=True)\n"
      ],
      "execution_count": 78,
      "outputs": []
    },
    {
      "cell_type": "code",
      "metadata": {
        "colab": {
          "base_uri": "https://localhost:8080/",
          "height": 338
        },
        "id": "xjZYneLOVMMz",
        "outputId": "7b402d39-efce-49e5-dccc-e565c4f0b25a"
      },
      "source": [
        "data.head()\n"
      ],
      "execution_count": 79,
      "outputs": [
        {
          "output_type": "execute_result",
          "data": {
            "text/html": [
              "<div>\n",
              "<style scoped>\n",
              "    .dataframe tbody tr th:only-of-type {\n",
              "        vertical-align: middle;\n",
              "    }\n",
              "\n",
              "    .dataframe tbody tr th {\n",
              "        vertical-align: top;\n",
              "    }\n",
              "\n",
              "    .dataframe thead th {\n",
              "        text-align: right;\n",
              "    }\n",
              "</style>\n",
              "<table border=\"1\" class=\"dataframe\">\n",
              "  <thead>\n",
              "    <tr style=\"text-align: right;\">\n",
              "      <th></th>\n",
              "      <th>loan_amnt</th>\n",
              "      <th>term</th>\n",
              "      <th>int_rate</th>\n",
              "      <th>installment</th>\n",
              "      <th>annual_inc</th>\n",
              "      <th>issue_d</th>\n",
              "      <th>loan_status</th>\n",
              "      <th>dti</th>\n",
              "      <th>earliest_cr_line</th>\n",
              "      <th>open_acc</th>\n",
              "      <th>pub_rec</th>\n",
              "      <th>revol_bal</th>\n",
              "      <th>revol_util</th>\n",
              "      <th>total_acc</th>\n",
              "      <th>mort_acc</th>\n",
              "      <th>pub_rec_bankruptcies</th>\n",
              "      <th>sub_grade_A2</th>\n",
              "      <th>sub_grade_A3</th>\n",
              "      <th>sub_grade_A4</th>\n",
              "      <th>sub_grade_A5</th>\n",
              "      <th>sub_grade_B1</th>\n",
              "      <th>sub_grade_B2</th>\n",
              "      <th>sub_grade_B3</th>\n",
              "      <th>sub_grade_B4</th>\n",
              "      <th>sub_grade_B5</th>\n",
              "      <th>...</th>\n",
              "      <th>purpose_home_improvement</th>\n",
              "      <th>purpose_house</th>\n",
              "      <th>purpose_major_purchase</th>\n",
              "      <th>purpose_medical</th>\n",
              "      <th>purpose_moving</th>\n",
              "      <th>purpose_other</th>\n",
              "      <th>purpose_renewable_energy</th>\n",
              "      <th>purpose_small_business</th>\n",
              "      <th>purpose_vacation</th>\n",
              "      <th>purpose_wedding</th>\n",
              "      <th>initial_list_status_w</th>\n",
              "      <th>application_type_INDIVIDUAL</th>\n",
              "      <th>application_type_JOINT</th>\n",
              "      <th>home_ownership_OTHER</th>\n",
              "      <th>home_ownership_OWN</th>\n",
              "      <th>home_ownership_RENT</th>\n",
              "      <th>zip_code_05113</th>\n",
              "      <th>zip_code_11650</th>\n",
              "      <th>zip_code_22690</th>\n",
              "      <th>zip_code_29597</th>\n",
              "      <th>zip_code_30723</th>\n",
              "      <th>zip_code_48052</th>\n",
              "      <th>zip_code_70466</th>\n",
              "      <th>zip_code_86630</th>\n",
              "      <th>zip_code_93700</th>\n",
              "    </tr>\n",
              "  </thead>\n",
              "  <tbody>\n",
              "    <tr>\n",
              "      <th>0</th>\n",
              "      <td>10000.00</td>\n",
              "      <td>36 months</td>\n",
              "      <td>11.44</td>\n",
              "      <td>329.48</td>\n",
              "      <td>117000.00</td>\n",
              "      <td>Jan-2015</td>\n",
              "      <td>0</td>\n",
              "      <td>26.24</td>\n",
              "      <td>Jun-1990</td>\n",
              "      <td>16.00</td>\n",
              "      <td>0</td>\n",
              "      <td>36369.00</td>\n",
              "      <td>41.80</td>\n",
              "      <td>25.00</td>\n",
              "      <td>0.00</td>\n",
              "      <td>0.00</td>\n",
              "      <td>0</td>\n",
              "      <td>0</td>\n",
              "      <td>0</td>\n",
              "      <td>0</td>\n",
              "      <td>0</td>\n",
              "      <td>0</td>\n",
              "      <td>0</td>\n",
              "      <td>1</td>\n",
              "      <td>0</td>\n",
              "      <td>...</td>\n",
              "      <td>0</td>\n",
              "      <td>0</td>\n",
              "      <td>0</td>\n",
              "      <td>0</td>\n",
              "      <td>0</td>\n",
              "      <td>0</td>\n",
              "      <td>0</td>\n",
              "      <td>0</td>\n",
              "      <td>1</td>\n",
              "      <td>0</td>\n",
              "      <td>1</td>\n",
              "      <td>1</td>\n",
              "      <td>0</td>\n",
              "      <td>0</td>\n",
              "      <td>0</td>\n",
              "      <td>1</td>\n",
              "      <td>0</td>\n",
              "      <td>0</td>\n",
              "      <td>1</td>\n",
              "      <td>0</td>\n",
              "      <td>0</td>\n",
              "      <td>0</td>\n",
              "      <td>0</td>\n",
              "      <td>0</td>\n",
              "      <td>0</td>\n",
              "    </tr>\n",
              "    <tr>\n",
              "      <th>1</th>\n",
              "      <td>8000.00</td>\n",
              "      <td>36 months</td>\n",
              "      <td>11.99</td>\n",
              "      <td>265.68</td>\n",
              "      <td>65000.00</td>\n",
              "      <td>Jan-2015</td>\n",
              "      <td>0</td>\n",
              "      <td>22.05</td>\n",
              "      <td>Jul-2004</td>\n",
              "      <td>17.00</td>\n",
              "      <td>0</td>\n",
              "      <td>20131.00</td>\n",
              "      <td>53.30</td>\n",
              "      <td>27.00</td>\n",
              "      <td>1.00</td>\n",
              "      <td>0.00</td>\n",
              "      <td>0</td>\n",
              "      <td>0</td>\n",
              "      <td>0</td>\n",
              "      <td>0</td>\n",
              "      <td>0</td>\n",
              "      <td>0</td>\n",
              "      <td>0</td>\n",
              "      <td>0</td>\n",
              "      <td>1</td>\n",
              "      <td>...</td>\n",
              "      <td>0</td>\n",
              "      <td>0</td>\n",
              "      <td>0</td>\n",
              "      <td>0</td>\n",
              "      <td>0</td>\n",
              "      <td>0</td>\n",
              "      <td>0</td>\n",
              "      <td>0</td>\n",
              "      <td>0</td>\n",
              "      <td>0</td>\n",
              "      <td>0</td>\n",
              "      <td>1</td>\n",
              "      <td>0</td>\n",
              "      <td>0</td>\n",
              "      <td>0</td>\n",
              "      <td>0</td>\n",
              "      <td>1</td>\n",
              "      <td>0</td>\n",
              "      <td>0</td>\n",
              "      <td>0</td>\n",
              "      <td>0</td>\n",
              "      <td>0</td>\n",
              "      <td>0</td>\n",
              "      <td>0</td>\n",
              "      <td>0</td>\n",
              "    </tr>\n",
              "    <tr>\n",
              "      <th>2</th>\n",
              "      <td>15600.00</td>\n",
              "      <td>36 months</td>\n",
              "      <td>10.49</td>\n",
              "      <td>506.97</td>\n",
              "      <td>43057.00</td>\n",
              "      <td>Jan-2015</td>\n",
              "      <td>0</td>\n",
              "      <td>12.79</td>\n",
              "      <td>Aug-2007</td>\n",
              "      <td>13.00</td>\n",
              "      <td>0</td>\n",
              "      <td>11987.00</td>\n",
              "      <td>92.20</td>\n",
              "      <td>26.00</td>\n",
              "      <td>0.00</td>\n",
              "      <td>0.00</td>\n",
              "      <td>0</td>\n",
              "      <td>0</td>\n",
              "      <td>0</td>\n",
              "      <td>0</td>\n",
              "      <td>0</td>\n",
              "      <td>0</td>\n",
              "      <td>1</td>\n",
              "      <td>0</td>\n",
              "      <td>0</td>\n",
              "      <td>...</td>\n",
              "      <td>0</td>\n",
              "      <td>0</td>\n",
              "      <td>0</td>\n",
              "      <td>0</td>\n",
              "      <td>0</td>\n",
              "      <td>0</td>\n",
              "      <td>0</td>\n",
              "      <td>0</td>\n",
              "      <td>0</td>\n",
              "      <td>0</td>\n",
              "      <td>0</td>\n",
              "      <td>1</td>\n",
              "      <td>0</td>\n",
              "      <td>0</td>\n",
              "      <td>0</td>\n",
              "      <td>1</td>\n",
              "      <td>1</td>\n",
              "      <td>0</td>\n",
              "      <td>0</td>\n",
              "      <td>0</td>\n",
              "      <td>0</td>\n",
              "      <td>0</td>\n",
              "      <td>0</td>\n",
              "      <td>0</td>\n",
              "      <td>0</td>\n",
              "    </tr>\n",
              "    <tr>\n",
              "      <th>3</th>\n",
              "      <td>7200.00</td>\n",
              "      <td>36 months</td>\n",
              "      <td>6.49</td>\n",
              "      <td>220.65</td>\n",
              "      <td>54000.00</td>\n",
              "      <td>Nov-2014</td>\n",
              "      <td>0</td>\n",
              "      <td>2.60</td>\n",
              "      <td>Sep-2006</td>\n",
              "      <td>6.00</td>\n",
              "      <td>0</td>\n",
              "      <td>5472.00</td>\n",
              "      <td>21.50</td>\n",
              "      <td>13.00</td>\n",
              "      <td>0.00</td>\n",
              "      <td>0.00</td>\n",
              "      <td>1</td>\n",
              "      <td>0</td>\n",
              "      <td>0</td>\n",
              "      <td>0</td>\n",
              "      <td>0</td>\n",
              "      <td>0</td>\n",
              "      <td>0</td>\n",
              "      <td>0</td>\n",
              "      <td>0</td>\n",
              "      <td>...</td>\n",
              "      <td>0</td>\n",
              "      <td>0</td>\n",
              "      <td>0</td>\n",
              "      <td>0</td>\n",
              "      <td>0</td>\n",
              "      <td>0</td>\n",
              "      <td>0</td>\n",
              "      <td>0</td>\n",
              "      <td>0</td>\n",
              "      <td>0</td>\n",
              "      <td>0</td>\n",
              "      <td>1</td>\n",
              "      <td>0</td>\n",
              "      <td>0</td>\n",
              "      <td>0</td>\n",
              "      <td>1</td>\n",
              "      <td>0</td>\n",
              "      <td>0</td>\n",
              "      <td>0</td>\n",
              "      <td>0</td>\n",
              "      <td>0</td>\n",
              "      <td>0</td>\n",
              "      <td>0</td>\n",
              "      <td>0</td>\n",
              "      <td>0</td>\n",
              "    </tr>\n",
              "    <tr>\n",
              "      <th>4</th>\n",
              "      <td>24375.00</td>\n",
              "      <td>60 months</td>\n",
              "      <td>17.27</td>\n",
              "      <td>609.33</td>\n",
              "      <td>55000.00</td>\n",
              "      <td>Apr-2013</td>\n",
              "      <td>1</td>\n",
              "      <td>33.95</td>\n",
              "      <td>Mar-1999</td>\n",
              "      <td>13.00</td>\n",
              "      <td>0</td>\n",
              "      <td>24584.00</td>\n",
              "      <td>69.80</td>\n",
              "      <td>43.00</td>\n",
              "      <td>1.00</td>\n",
              "      <td>0.00</td>\n",
              "      <td>0</td>\n",
              "      <td>0</td>\n",
              "      <td>0</td>\n",
              "      <td>0</td>\n",
              "      <td>0</td>\n",
              "      <td>0</td>\n",
              "      <td>0</td>\n",
              "      <td>0</td>\n",
              "      <td>0</td>\n",
              "      <td>...</td>\n",
              "      <td>0</td>\n",
              "      <td>0</td>\n",
              "      <td>0</td>\n",
              "      <td>0</td>\n",
              "      <td>0</td>\n",
              "      <td>0</td>\n",
              "      <td>0</td>\n",
              "      <td>0</td>\n",
              "      <td>0</td>\n",
              "      <td>0</td>\n",
              "      <td>0</td>\n",
              "      <td>1</td>\n",
              "      <td>0</td>\n",
              "      <td>0</td>\n",
              "      <td>0</td>\n",
              "      <td>0</td>\n",
              "      <td>0</td>\n",
              "      <td>1</td>\n",
              "      <td>0</td>\n",
              "      <td>0</td>\n",
              "      <td>0</td>\n",
              "      <td>0</td>\n",
              "      <td>0</td>\n",
              "      <td>0</td>\n",
              "      <td>0</td>\n",
              "    </tr>\n",
              "  </tbody>\n",
              "</table>\n",
              "<p>5 rows × 80 columns</p>\n",
              "</div>"
            ],
            "text/plain": [
              "   loan_amnt        term  int_rate  installment  annual_inc   issue_d  \\\n",
              "0   10000.00   36 months     11.44       329.48   117000.00  Jan-2015   \n",
              "1    8000.00   36 months     11.99       265.68    65000.00  Jan-2015   \n",
              "2   15600.00   36 months     10.49       506.97    43057.00  Jan-2015   \n",
              "3    7200.00   36 months      6.49       220.65    54000.00  Nov-2014   \n",
              "4   24375.00   60 months     17.27       609.33    55000.00  Apr-2013   \n",
              "\n",
              "   loan_status   dti earliest_cr_line  open_acc  pub_rec  revol_bal  \\\n",
              "0            0 26.24         Jun-1990     16.00        0   36369.00   \n",
              "1            0 22.05         Jul-2004     17.00        0   20131.00   \n",
              "2            0 12.79         Aug-2007     13.00        0   11987.00   \n",
              "3            0  2.60         Sep-2006      6.00        0    5472.00   \n",
              "4            1 33.95         Mar-1999     13.00        0   24584.00   \n",
              "\n",
              "   revol_util  total_acc  mort_acc  pub_rec_bankruptcies  sub_grade_A2  \\\n",
              "0       41.80      25.00      0.00                  0.00             0   \n",
              "1       53.30      27.00      1.00                  0.00             0   \n",
              "2       92.20      26.00      0.00                  0.00             0   \n",
              "3       21.50      13.00      0.00                  0.00             1   \n",
              "4       69.80      43.00      1.00                  0.00             0   \n",
              "\n",
              "   sub_grade_A3  sub_grade_A4  sub_grade_A5  sub_grade_B1  sub_grade_B2  \\\n",
              "0             0             0             0             0             0   \n",
              "1             0             0             0             0             0   \n",
              "2             0             0             0             0             0   \n",
              "3             0             0             0             0             0   \n",
              "4             0             0             0             0             0   \n",
              "\n",
              "   sub_grade_B3  sub_grade_B4  sub_grade_B5  ...  purpose_home_improvement  \\\n",
              "0             0             1             0  ...                         0   \n",
              "1             0             0             1  ...                         0   \n",
              "2             1             0             0  ...                         0   \n",
              "3             0             0             0  ...                         0   \n",
              "4             0             0             0  ...                         0   \n",
              "\n",
              "   purpose_house  purpose_major_purchase  purpose_medical  purpose_moving  \\\n",
              "0              0                       0                0               0   \n",
              "1              0                       0                0               0   \n",
              "2              0                       0                0               0   \n",
              "3              0                       0                0               0   \n",
              "4              0                       0                0               0   \n",
              "\n",
              "   purpose_other  purpose_renewable_energy  purpose_small_business  \\\n",
              "0              0                         0                       0   \n",
              "1              0                         0                       0   \n",
              "2              0                         0                       0   \n",
              "3              0                         0                       0   \n",
              "4              0                         0                       0   \n",
              "\n",
              "   purpose_vacation  purpose_wedding  initial_list_status_w  \\\n",
              "0                 1                0                      1   \n",
              "1                 0                0                      0   \n",
              "2                 0                0                      0   \n",
              "3                 0                0                      0   \n",
              "4                 0                0                      0   \n",
              "\n",
              "   application_type_INDIVIDUAL  application_type_JOINT  home_ownership_OTHER  \\\n",
              "0                            1                       0                     0   \n",
              "1                            1                       0                     0   \n",
              "2                            1                       0                     0   \n",
              "3                            1                       0                     0   \n",
              "4                            1                       0                     0   \n",
              "\n",
              "   home_ownership_OWN  home_ownership_RENT  zip_code_05113  zip_code_11650  \\\n",
              "0                   0                    1               0               0   \n",
              "1                   0                    0               1               0   \n",
              "2                   0                    1               1               0   \n",
              "3                   0                    1               0               0   \n",
              "4                   0                    0               0               1   \n",
              "\n",
              "   zip_code_22690  zip_code_29597  zip_code_30723  zip_code_48052  \\\n",
              "0               1               0               0               0   \n",
              "1               0               0               0               0   \n",
              "2               0               0               0               0   \n",
              "3               0               0               0               0   \n",
              "4               0               0               0               0   \n",
              "\n",
              "   zip_code_70466  zip_code_86630  zip_code_93700  \n",
              "0               0               0               0  \n",
              "1               0               0               0  \n",
              "2               0               0               0  \n",
              "3               0               0               0  \n",
              "4               0               0               0  \n",
              "\n",
              "[5 rows x 80 columns]"
            ]
          },
          "metadata": {
            "tags": []
          },
          "execution_count": 79
        }
      ]
    },
    {
      "cell_type": "markdown",
      "metadata": {
        "id": "KXp0IbdcVYbT"
      },
      "source": [
        "issue_d\n",
        "This would be data leakage, we wouldn't know beforehand whether or not a loan would be issued when using our model, so in theory we wouldn't have an issue_date, drop this feature."
      ]
    },
    {
      "cell_type": "code",
      "metadata": {
        "id": "hbCD9BJLVZ7_"
      },
      "source": [
        "data.drop('issue_d', axis=1, inplace=True)"
      ],
      "execution_count": 80,
      "outputs": []
    },
    {
      "cell_type": "markdown",
      "metadata": {
        "id": "ZUVuAHG8Vg2j"
      },
      "source": [
        "earliest_cr_line\n",
        "This appears to be a historical time stamp feature. Extract the year from this feature using a .apply() function, then convert it to a numeric feature."
      ]
    },
    {
      "cell_type": "code",
      "metadata": {
        "id": "BqrFXWkqVm0K"
      },
      "source": [
        "data['earliest_cr_line'] = data.earliest_cr_line.str.split('-', expand=True)[1]\n"
      ],
      "execution_count": 81,
      "outputs": []
    },
    {
      "cell_type": "code",
      "metadata": {
        "colab": {
          "base_uri": "https://localhost:8080/"
        },
        "id": "1vMPqTzSVsvJ",
        "outputId": "20f6ba6a-b546-4816-bd7b-78b75358c31c"
      },
      "source": [
        "data.earliest_cr_line.nunique()\n"
      ],
      "execution_count": 82,
      "outputs": [
        {
          "output_type": "execute_result",
          "data": {
            "text/plain": [
              "65"
            ]
          },
          "metadata": {
            "tags": []
          },
          "execution_count": 82
        }
      ]
    },
    {
      "cell_type": "code",
      "metadata": {
        "colab": {
          "base_uri": "https://localhost:8080/"
        },
        "id": "H10xk7Gfbvsa",
        "outputId": "6b2b3876-eb5f-4792-9056-5986f4e897af"
      },
      "source": [
        "w_p = data.loan_status.value_counts()[0] / data.shape[0]\n",
        "w_n = data.loan_status.value_counts()[1] / data.shape[0]\n",
        "\n",
        "print(f\"Weight of positive values {w_p}\")\n",
        "print(f\"Weight of negative values {w_n}\")\n"
      ],
      "execution_count": 83,
      "outputs": [
        {
          "output_type": "stream",
          "text": [
            "Weight of positive values 0.8038479931379817\n",
            "Weight of negative values 0.19615200686201828\n"
          ],
          "name": "stdout"
        }
      ]
    },
    {
      "cell_type": "code",
      "metadata": {
        "id": "Yzxj3tD6gYu6",
        "outputId": "26dcd74f-6355-42de-98bc-ee2b0ffd2de2",
        "colab": {
          "base_uri": "https://localhost:8080/"
        }
      },
      "source": [
        "from sklearn.model_selection import train_test_split, GridSearchCV\n",
        "from sklearn.preprocessing import MinMaxScaler\n",
        "\n",
        "\n",
        "X = data.drop('loan_status', axis=1)\n",
        "y = data.loan_status\n",
        "\n",
        "X_train, X_test, y_train, y_test = train_test_split(X, y, test_size=0.3, random_state=42, stratify=y)\n",
        "\n",
        "print(X_train.shape)\n",
        "print(X_test.shape)\n",
        "print(y_train.shape)\n",
        "print(y_test.shape)"
      ],
      "execution_count": 84,
      "outputs": [
        {
          "output_type": "stream",
          "text": [
            "(276653, 78)\n",
            "(118566, 78)\n",
            "(276653,)\n",
            "(118566,)\n"
          ],
          "name": "stdout"
        }
      ]
    },
    {
      "cell_type": "code",
      "metadata": {
        "id": "fMHpaCBhjZk7",
        "outputId": "a3cfb46e-4f22-478c-fea9-31ff270b7bf0",
        "colab": {
          "base_uri": "https://localhost:8080/"
        }
      },
      "source": [
        "from sklearn import preprocessing\n",
        "def convert(X_train):\n",
        "    number = preprocessing.LabelEncoder()\n",
        "    X_train['term'] = number.fit_transform(X_train.term)\n",
        "    return X_train\n",
        "\n",
        "X_train=convert(X_train)\n"
      ],
      "execution_count": 86,
      "outputs": [
        {
          "output_type": "stream",
          "text": [
            "/usr/local/lib/python3.7/dist-packages/ipykernel_launcher.py:4: SettingWithCopyWarning: \n",
            "A value is trying to be set on a copy of a slice from a DataFrame.\n",
            "Try using .loc[row_indexer,col_indexer] = value instead\n",
            "\n",
            "See the caveats in the documentation: https://pandas.pydata.org/pandas-docs/stable/user_guide/indexing.html#returning-a-view-versus-a-copy\n",
            "  after removing the cwd from sys.path.\n"
          ],
          "name": "stderr"
        }
      ]
    },
    {
      "cell_type": "code",
      "metadata": {
        "id": "6qx_Ygv3kMVB",
        "outputId": "537f3170-db85-4977-fdfb-67f699f40aa6",
        "colab": {
          "base_uri": "https://localhost:8080/"
        }
      },
      "source": [
        "from sklearn import preprocessing\n",
        "def convert(X_test):\n",
        "    number = preprocessing.LabelEncoder()\n",
        "    X_test['term'] = number.fit_transform(X_test.term)\n",
        "    return X_test\n",
        "\n",
        "X_test=convert(X_test)\n"
      ],
      "execution_count": 89,
      "outputs": [
        {
          "output_type": "stream",
          "text": [
            "/usr/local/lib/python3.7/dist-packages/ipykernel_launcher.py:4: SettingWithCopyWarning: \n",
            "A value is trying to be set on a copy of a slice from a DataFrame.\n",
            "Try using .loc[row_indexer,col_indexer] = value instead\n",
            "\n",
            "See the caveats in the documentation: https://pandas.pydata.org/pandas-docs/stable/user_guide/indexing.html#returning-a-view-versus-a-copy\n",
            "  after removing the cwd from sys.path.\n"
          ],
          "name": "stderr"
        }
      ]
    },
    {
      "cell_type": "markdown",
      "metadata": {
        "id": "Vqjwxelbgq_e"
      },
      "source": [
        "Normalize the data"
      ]
    },
    {
      "cell_type": "code",
      "metadata": {
        "id": "b0KRH1P8gdSB"
      },
      "source": [
        "scaler = MinMaxScaler()\n",
        "X_train = scaler.fit_transform(X_train)\n",
        "X_test = scaler.transform(X_test)"
      ],
      "execution_count": 90,
      "outputs": []
    },
    {
      "cell_type": "code",
      "metadata": {
        "id": "p1Xwvst0kbUT"
      },
      "source": [
        "from sklearn.metrics import accuracy_score, confusion_matrix, classification_report\n",
        "from sklearn.metrics import roc_auc_score, roc_curve, auc\n",
        "\n",
        "def print_score(true, pred, train=True):\n",
        "    if train:\n",
        "        clf_report = pd.DataFrame(classification_report(true, pred, output_dict=True))\n",
        "        print(\"Train Result:\\n================================================\")\n",
        "        print(f\"Accuracy Score: {accuracy_score(true, pred) * 100:.2f}%\")\n",
        "        print(\"_______________________________________________\")\n",
        "        print(f\"CLASSIFICATION REPORT:\\n{clf_report}\")\n",
        "        print(\"_______________________________________________\")\n",
        "        print(f\"Confusion Matrix: \\n {confusion_matrix(true, pred)}\\n\")\n",
        "        \n",
        "    elif train==False:\n",
        "        clf_report = pd.DataFrame(classification_report(true, pred, output_dict=True))\n",
        "        print(\"Test Result:\\n================================================\")        \n",
        "        print(f\"Accuracy Score: {accuracy_score(true, pred) * 100:.2f}%\")\n",
        "        print(\"_______________________________________________\")\n",
        "        print(f\"CLASSIFICATION REPORT:\\n{clf_report}\")\n",
        "        print(\"_______________________________________________\")\n",
        "        print(f\"Confusion Matrix: \\n {confusion_matrix(true, pred)}\\n\")"
      ],
      "execution_count": 91,
      "outputs": []
    },
    {
      "cell_type": "code",
      "metadata": {
        "id": "Ij6llRFHkodi"
      },
      "source": [
        "X_train = np.array(X_train).astype(np.float32)\n",
        "X_test = np.array(X_test).astype(np.float32)\n",
        "y_train = np.array(y_train).astype(np.float32)\n",
        "y_test = np.array(y_test).astype(np.float32)"
      ],
      "execution_count": 92,
      "outputs": []
    },
    {
      "cell_type": "code",
      "metadata": {
        "id": "It-ed_psk7qE"
      },
      "source": [
        "import tensorflow as tf\n",
        "from tensorflow.keras.models import Sequential, Model\n",
        "from tensorflow.keras.layers import Dense, Dropout, BatchNormalization\n",
        "from tensorflow.keras.optimizers import Adam\n",
        "from tensorflow.keras.metrics import AUC"
      ],
      "execution_count": 93,
      "outputs": []
    },
    {
      "cell_type": "markdown",
      "metadata": {
        "id": "SjzemjzxlCmS"
      },
      "source": [
        "ARTIFICIAL NEURAL NETWORKS"
      ]
    },
    {
      "cell_type": "code",
      "metadata": {
        "id": "s1dVH7RGlGgU"
      },
      "source": [
        "def evaluate_nn(true, pred, train=True):\n",
        "    if train:\n",
        "        clf_report = pd.DataFrame(classification_report(true, pred, output_dict=True))\n",
        "        print(\"Train Result:\\n================================================\")\n",
        "        print(f\"Accuracy Score: {accuracy_score(true, pred) * 100:.2f}%\")\n",
        "        print(\"_______________________________________________\")\n",
        "        print(f\"CLASSIFICATION REPORT:\\n{clf_report}\")\n",
        "        print(\"_______________________________________________\")\n",
        "        print(f\"Confusion Matrix: \\n {confusion_matrix(true, pred)}\\n\")\n",
        "        \n",
        "    elif train==False:\n",
        "        clf_report = pd.DataFrame(classification_report(true, pred, output_dict=True))\n",
        "        print(\"Test Result:\\n================================================\")        \n",
        "        print(f\"Accuracy Score: {accuracy_score(true, pred) * 100:.2f}%\")\n",
        "        print(\"_______________________________________________\")\n",
        "        print(f\"CLASSIFICATION REPORT:\\n{clf_report}\")\n",
        "        print(\"_______________________________________________\")\n",
        "        print(f\"Confusion Matrix: \\n {confusion_matrix(true, pred)}\\n\")\n",
        "        \n",
        "def plot_learning_evolution(r):\n",
        "    plt.figure(figsize=(12, 8))\n",
        "    \n",
        "    plt.subplot(2, 2, 1)\n",
        "    plt.plot(r.history['loss'], label='Loss')\n",
        "    plt.plot(r.history['val_loss'], label='val_Loss')\n",
        "    plt.title('Loss evolution during trainig')\n",
        "    plt.legend()\n",
        "\n",
        "    plt.subplot(2, 2, 2)\n",
        "    plt.plot(r.history['AUC'], label='AUC')\n",
        "    plt.plot(r.history['val_AUC'], label='val_AUC')\n",
        "    plt.title('AUC score evolution during trainig')\n",
        "    plt.legend();\n",
        "\n",
        "def nn_model(num_columns, num_labels, hidden_units, dropout_rates, learning_rate):\n",
        "    inp = tf.keras.layers.Input(shape=(num_columns, ))\n",
        "    x = BatchNormalization()(inp)\n",
        "    x = Dropout(dropout_rates[0])(x)\n",
        "    for i in range(len(hidden_units)):\n",
        "        x = Dense(hidden_units[i], activation='relu')(x)\n",
        "        x = BatchNormalization()(x)\n",
        "        x = Dropout(dropout_rates[i + 1])(x)\n",
        "    x = Dense(num_labels, activation='sigmoid')(x)\n",
        "  \n",
        "    model = Model(inputs=inp, outputs=x)\n",
        "    model.compile(optimizer=Adam(learning_rate), loss='binary_crossentropy', metrics=[AUC(name='AUC')])\n",
        "    return model"
      ],
      "execution_count": 94,
      "outputs": []
    },
    {
      "cell_type": "code",
      "metadata": {
        "id": "qlRc5JVXlqvJ",
        "outputId": "a39c6a56-ef7e-4eae-e4e5-5a454e30a08a",
        "colab": {
          "base_uri": "https://localhost:8080/"
        }
      },
      "source": [
        "num_columns = X_train.shape[1]\n",
        "num_labels = 1\n",
        "hidden_units = [150, 150, 150]\n",
        "dropout_rates = [0.1, 0, 0.1, 0]\n",
        "learning_rate = 1e-3\n",
        "\n",
        "\n",
        "model = nn_model(\n",
        "    num_columns=num_columns, \n",
        "    num_labels=num_labels,\n",
        "    hidden_units=hidden_units,\n",
        "    dropout_rates=dropout_rates,\n",
        "    learning_rate=learning_rate\n",
        ")\n",
        "r = model.fit(\n",
        "    X_train, y_train,\n",
        "    validation_data=(X_test, y_test),\n",
        "    epochs=150,\n",
        "    batch_size=32\n",
        ")"
      ],
      "execution_count": 95,
      "outputs": [
        {
          "output_type": "stream",
          "text": [
            "Epoch 1/150\n",
            "8646/8646 [==============================] - 39s 4ms/step - loss: 0.3307 - AUC: 0.8389 - val_loss: 711327.3750 - val_AUC: 0.5000\n",
            "Epoch 2/150\n",
            "8646/8646 [==============================] - 36s 4ms/step - loss: 0.2933 - AUC: 0.8744 - val_loss: 872036.4375 - val_AUC: 0.5000\n",
            "Epoch 3/150\n",
            "8646/8646 [==============================] - 36s 4ms/step - loss: 0.2857 - AUC: 0.8815 - val_loss: 788519.0625 - val_AUC: 0.5000\n",
            "Epoch 4/150\n",
            "8646/8646 [==============================] - 36s 4ms/step - loss: 0.2833 - AUC: 0.8844 - val_loss: 1735962.3750 - val_AUC: 0.5000\n",
            "Epoch 5/150\n",
            "8646/8646 [==============================] - 36s 4ms/step - loss: 0.2803 - AUC: 0.8874 - val_loss: 2200193.7500 - val_AUC: 0.5000\n",
            "Epoch 6/150\n",
            "8646/8646 [==============================] - 35s 4ms/step - loss: 0.2793 - AUC: 0.8880 - val_loss: 1710276.3750 - val_AUC: 0.5000\n",
            "Epoch 7/150\n",
            "8646/8646 [==============================] - 35s 4ms/step - loss: 0.2786 - AUC: 0.8885 - val_loss: 3349351.2500 - val_AUC: 0.5000\n",
            "Epoch 8/150\n",
            "8646/8646 [==============================] - 35s 4ms/step - loss: 0.2781 - AUC: 0.8893 - val_loss: 1731664.3750 - val_AUC: 0.5000\n",
            "Epoch 9/150\n",
            "8646/8646 [==============================] - 35s 4ms/step - loss: 0.2793 - AUC: 0.8884 - val_loss: 9154877.0000 - val_AUC: 0.5000\n",
            "Epoch 10/150\n",
            "8646/8646 [==============================] - 36s 4ms/step - loss: 0.2784 - AUC: 0.8900 - val_loss: 9158754.0000 - val_AUC: 0.5000\n",
            "Epoch 11/150\n",
            "8646/8646 [==============================] - 36s 4ms/step - loss: 0.2770 - AUC: 0.8911 - val_loss: 32444342.0000 - val_AUC: 0.5000\n",
            "Epoch 12/150\n",
            "8646/8646 [==============================] - 36s 4ms/step - loss: 0.2760 - AUC: 0.8908 - val_loss: 7104524.5000 - val_AUC: 0.5000\n",
            "Epoch 13/150\n",
            "8646/8646 [==============================] - 36s 4ms/step - loss: 0.2769 - AUC: 0.8912 - val_loss: 53792152.0000 - val_AUC: 0.5000\n",
            "Epoch 14/150\n",
            "8646/8646 [==============================] - 36s 4ms/step - loss: 0.2776 - AUC: 0.8902 - val_loss: 92741984.0000 - val_AUC: 0.5000\n",
            "Epoch 15/150\n",
            "8646/8646 [==============================] - 35s 4ms/step - loss: 0.2773 - AUC: 0.8901 - val_loss: 32766310.0000 - val_AUC: 0.5000\n",
            "Epoch 16/150\n",
            "8646/8646 [==============================] - 36s 4ms/step - loss: 0.2753 - AUC: 0.8917 - val_loss: 44102276.0000 - val_AUC: 0.5000\n",
            "Epoch 17/150\n",
            "8646/8646 [==============================] - 35s 4ms/step - loss: 0.2755 - AUC: 0.8917 - val_loss: 7984358.0000 - val_AUC: 0.5000\n",
            "Epoch 18/150\n",
            "8646/8646 [==============================] - 36s 4ms/step - loss: 0.2755 - AUC: 0.8909 - val_loss: 8365063.0000 - val_AUC: 0.5000\n",
            "Epoch 19/150\n",
            "8646/8646 [==============================] - 35s 4ms/step - loss: 0.2745 - AUC: 0.8924 - val_loss: 57005080.0000 - val_AUC: 0.5000\n",
            "Epoch 20/150\n",
            "8646/8646 [==============================] - 36s 4ms/step - loss: 0.2746 - AUC: 0.8915 - val_loss: 736164928.0000 - val_AUC: 0.5000\n",
            "Epoch 21/150\n",
            "8646/8646 [==============================] - 35s 4ms/step - loss: 0.2742 - AUC: 0.8922 - val_loss: 1982245120.0000 - val_AUC: 0.5000\n",
            "Epoch 22/150\n",
            "8646/8646 [==============================] - 36s 4ms/step - loss: 0.2746 - AUC: 0.8927 - val_loss: 27797008.0000 - val_AUC: 0.5000\n",
            "Epoch 23/150\n",
            "8646/8646 [==============================] - 36s 4ms/step - loss: 0.2768 - AUC: 0.8916 - val_loss: 307194816.0000 - val_AUC: 0.5000\n",
            "Epoch 24/150\n",
            "8646/8646 [==============================] - 36s 4ms/step - loss: 0.2745 - AUC: 0.8936 - val_loss: 125453392.0000 - val_AUC: 0.5000\n",
            "Epoch 25/150\n",
            "8646/8646 [==============================] - 36s 4ms/step - loss: 0.2738 - AUC: 0.8928 - val_loss: 782427840.0000 - val_AUC: 0.5000\n",
            "Epoch 26/150\n",
            "8646/8646 [==============================] - 36s 4ms/step - loss: 0.2742 - AUC: 0.8933 - val_loss: 60459880.0000 - val_AUC: 0.5000\n",
            "Epoch 27/150\n",
            "8646/8646 [==============================] - 36s 4ms/step - loss: 0.2744 - AUC: 0.8941 - val_loss: 16176914.0000 - val_AUC: 0.5000\n",
            "Epoch 28/150\n",
            "8646/8646 [==============================] - 36s 4ms/step - loss: 0.2727 - AUC: 0.8934 - val_loss: 4025595.5000 - val_AUC: 0.5000\n",
            "Epoch 29/150\n",
            "8646/8646 [==============================] - 36s 4ms/step - loss: 0.2729 - AUC: 0.8941 - val_loss: 40366908.0000 - val_AUC: 0.5000\n",
            "Epoch 30/150\n",
            "8646/8646 [==============================] - 36s 4ms/step - loss: 0.2735 - AUC: 0.8934 - val_loss: 8581095.0000 - val_AUC: 0.5000\n",
            "Epoch 31/150\n",
            "8646/8646 [==============================] - 36s 4ms/step - loss: 0.2735 - AUC: 0.8931 - val_loss: 8760313.0000 - val_AUC: 0.5000\n",
            "Epoch 32/150\n",
            "8646/8646 [==============================] - 36s 4ms/step - loss: 0.2740 - AUC: 0.8928 - val_loss: 13813615.0000 - val_AUC: 0.5000\n",
            "Epoch 33/150\n",
            "8646/8646 [==============================] - 36s 4ms/step - loss: 0.2743 - AUC: 0.8935 - val_loss: 12621059.0000 - val_AUC: 0.5000\n",
            "Epoch 34/150\n",
            "8646/8646 [==============================] - 36s 4ms/step - loss: 0.2748 - AUC: 0.8928 - val_loss: 4882392.0000 - val_AUC: 0.5000\n",
            "Epoch 35/150\n",
            "8646/8646 [==============================] - 36s 4ms/step - loss: 0.2734 - AUC: 0.8929 - val_loss: 7541611.5000 - val_AUC: 0.5000\n",
            "Epoch 36/150\n",
            "8646/8646 [==============================] - 36s 4ms/step - loss: 0.2732 - AUC: 0.8949 - val_loss: 19597430.0000 - val_AUC: 0.5000\n",
            "Epoch 37/150\n",
            "8646/8646 [==============================] - 36s 4ms/step - loss: 0.2729 - AUC: 0.8942 - val_loss: 16770022.0000 - val_AUC: 0.5000\n",
            "Epoch 38/150\n",
            "8646/8646 [==============================] - 36s 4ms/step - loss: 0.2744 - AUC: 0.8923 - val_loss: 34528912.0000 - val_AUC: 0.5000\n",
            "Epoch 39/150\n",
            "8646/8646 [==============================] - 36s 4ms/step - loss: 0.2724 - AUC: 0.8953 - val_loss: 21493396.0000 - val_AUC: 0.5000\n",
            "Epoch 40/150\n",
            "8646/8646 [==============================] - 36s 4ms/step - loss: 0.2726 - AUC: 0.8948 - val_loss: 32391260.0000 - val_AUC: 0.5000\n",
            "Epoch 41/150\n",
            "8646/8646 [==============================] - 36s 4ms/step - loss: 0.2715 - AUC: 0.8950 - val_loss: 24257892.0000 - val_AUC: 0.5000\n",
            "Epoch 42/150\n",
            "8646/8646 [==============================] - 36s 4ms/step - loss: 0.2719 - AUC: 0.8946 - val_loss: 958857024.0000 - val_AUC: 0.5000\n",
            "Epoch 43/150\n",
            "8646/8646 [==============================] - 35s 4ms/step - loss: 0.2725 - AUC: 0.8932 - val_loss: 509933376.0000 - val_AUC: 0.5000\n",
            "Epoch 44/150\n",
            "8646/8646 [==============================] - 35s 4ms/step - loss: 0.2743 - AUC: 0.8925 - val_loss: 849498944.0000 - val_AUC: 0.5000\n",
            "Epoch 45/150\n",
            "8646/8646 [==============================] - 35s 4ms/step - loss: 0.2714 - AUC: 0.8954 - val_loss: 1682495104.0000 - val_AUC: 0.5000\n",
            "Epoch 46/150\n",
            "8646/8646 [==============================] - 36s 4ms/step - loss: 0.2713 - AUC: 0.8953 - val_loss: 176712112.0000 - val_AUC: 0.5000\n",
            "Epoch 47/150\n",
            "8646/8646 [==============================] - 35s 4ms/step - loss: 0.2750 - AUC: 0.8919 - val_loss: 137751072.0000 - val_AUC: 0.5000\n",
            "Epoch 48/150\n",
            "8646/8646 [==============================] - 35s 4ms/step - loss: 0.2725 - AUC: 0.8946 - val_loss: 56582136.0000 - val_AUC: 0.5000\n",
            "Epoch 49/150\n",
            "8646/8646 [==============================] - 35s 4ms/step - loss: 0.2736 - AUC: 0.8943 - val_loss: 87498264.0000 - val_AUC: 0.5000\n",
            "Epoch 50/150\n",
            "8646/8646 [==============================] - 35s 4ms/step - loss: 0.2732 - AUC: 0.8944 - val_loss: 16139663.0000 - val_AUC: 0.5000\n",
            "Epoch 51/150\n",
            "8646/8646 [==============================] - 35s 4ms/step - loss: 0.2709 - AUC: 0.8952 - val_loss: 11180223.0000 - val_AUC: 0.5000\n",
            "Epoch 52/150\n",
            "8646/8646 [==============================] - 36s 4ms/step - loss: 0.2721 - AUC: 0.8952 - val_loss: 62229300.0000 - val_AUC: 0.5000\n",
            "Epoch 53/150\n",
            "8646/8646 [==============================] - 36s 4ms/step - loss: 0.2713 - AUC: 0.8941 - val_loss: 108439816.0000 - val_AUC: 0.5000\n",
            "Epoch 54/150\n",
            "8646/8646 [==============================] - 35s 4ms/step - loss: 0.2716 - AUC: 0.8943 - val_loss: 88358664.0000 - val_AUC: 0.5000\n",
            "Epoch 55/150\n",
            "8646/8646 [==============================] - 36s 4ms/step - loss: 0.2718 - AUC: 0.8950 - val_loss: 101422096.0000 - val_AUC: 0.5000\n",
            "Epoch 56/150\n",
            "8646/8646 [==============================] - 35s 4ms/step - loss: 0.2719 - AUC: 0.8945 - val_loss: 76821872.0000 - val_AUC: 0.5000\n",
            "Epoch 57/150\n",
            "8646/8646 [==============================] - 35s 4ms/step - loss: 0.2737 - AUC: 0.8929 - val_loss: 242910176.0000 - val_AUC: 0.5000\n",
            "Epoch 58/150\n",
            "8646/8646 [==============================] - 35s 4ms/step - loss: 0.2711 - AUC: 0.8957 - val_loss: 173319024.0000 - val_AUC: 0.5000\n",
            "Epoch 59/150\n",
            "8646/8646 [==============================] - 36s 4ms/step - loss: 0.2719 - AUC: 0.8953 - val_loss: 161798208.0000 - val_AUC: 0.5000\n",
            "Epoch 60/150\n",
            "8646/8646 [==============================] - 36s 4ms/step - loss: 0.2717 - AUC: 0.8960 - val_loss: 67232752.0000 - val_AUC: 0.5000\n",
            "Epoch 61/150\n",
            "8646/8646 [==============================] - 35s 4ms/step - loss: 0.2705 - AUC: 0.8956 - val_loss: 141656832.0000 - val_AUC: 0.5000\n",
            "Epoch 62/150\n",
            "8646/8646 [==============================] - 35s 4ms/step - loss: 0.2704 - AUC: 0.8964 - val_loss: 246784576.0000 - val_AUC: 0.5000\n",
            "Epoch 63/150\n",
            "8646/8646 [==============================] - 36s 4ms/step - loss: 0.2710 - AUC: 0.8958 - val_loss: 35539452.0000 - val_AUC: 0.5000\n",
            "Epoch 64/150\n",
            "8646/8646 [==============================] - 36s 4ms/step - loss: 0.2725 - AUC: 0.8952 - val_loss: 30361624.0000 - val_AUC: 0.5000\n",
            "Epoch 65/150\n",
            "8646/8646 [==============================] - 36s 4ms/step - loss: 0.2724 - AUC: 0.8945 - val_loss: 24706146.0000 - val_AUC: 0.5000\n",
            "Epoch 66/150\n",
            "8646/8646 [==============================] - 36s 4ms/step - loss: 0.2717 - AUC: 0.8953 - val_loss: 30025202.0000 - val_AUC: 0.5000\n",
            "Epoch 67/150\n",
            "8646/8646 [==============================] - 35s 4ms/step - loss: 0.2706 - AUC: 0.8969 - val_loss: 116225152.0000 - val_AUC: 0.5000\n",
            "Epoch 68/150\n",
            "8646/8646 [==============================] - 35s 4ms/step - loss: 0.2701 - AUC: 0.8962 - val_loss: 14403972.0000 - val_AUC: 0.5000\n",
            "Epoch 69/150\n",
            "8646/8646 [==============================] - 35s 4ms/step - loss: 0.2706 - AUC: 0.8970 - val_loss: 39583924.0000 - val_AUC: 0.5000\n",
            "Epoch 70/150\n",
            "8646/8646 [==============================] - 36s 4ms/step - loss: 0.2693 - AUC: 0.8965 - val_loss: 69669664.0000 - val_AUC: 0.5000\n",
            "Epoch 71/150\n",
            "8646/8646 [==============================] - 35s 4ms/step - loss: 0.2737 - AUC: 0.8939 - val_loss: 112819656.0000 - val_AUC: 0.5000\n",
            "Epoch 72/150\n",
            "8646/8646 [==============================] - 36s 4ms/step - loss: 0.2715 - AUC: 0.8961 - val_loss: 91973184.0000 - val_AUC: 0.5000\n",
            "Epoch 73/150\n",
            "8646/8646 [==============================] - 36s 4ms/step - loss: 0.2724 - AUC: 0.8947 - val_loss: 48860880.0000 - val_AUC: 0.5000\n",
            "Epoch 74/150\n",
            "8646/8646 [==============================] - 36s 4ms/step - loss: 0.2700 - AUC: 0.8963 - val_loss: 363023680.0000 - val_AUC: 0.5000\n",
            "Epoch 75/150\n",
            "8646/8646 [==============================] - 35s 4ms/step - loss: 0.2715 - AUC: 0.8955 - val_loss: 251853952.0000 - val_AUC: 0.5000\n",
            "Epoch 76/150\n",
            "8646/8646 [==============================] - 36s 4ms/step - loss: 0.2716 - AUC: 0.8956 - val_loss: 338747968.0000 - val_AUC: 0.5000\n",
            "Epoch 77/150\n",
            "8646/8646 [==============================] - 36s 4ms/step - loss: 0.2706 - AUC: 0.8965 - val_loss: 176061840.0000 - val_AUC: 0.5000\n",
            "Epoch 78/150\n",
            "8646/8646 [==============================] - 36s 4ms/step - loss: 0.2718 - AUC: 0.8959 - val_loss: 101855928.0000 - val_AUC: 0.5000\n",
            "Epoch 79/150\n",
            "8646/8646 [==============================] - 36s 4ms/step - loss: 0.2717 - AUC: 0.8958 - val_loss: 102763944.0000 - val_AUC: 0.5000\n",
            "Epoch 80/150\n",
            "8646/8646 [==============================] - 35s 4ms/step - loss: 0.2696 - AUC: 0.8964 - val_loss: 28975656.0000 - val_AUC: 0.5000\n",
            "Epoch 81/150\n",
            "8646/8646 [==============================] - 35s 4ms/step - loss: 0.2696 - AUC: 0.8961 - val_loss: 60694768.0000 - val_AUC: 0.5000\n",
            "Epoch 82/150\n",
            "8646/8646 [==============================] - 36s 4ms/step - loss: 0.2705 - AUC: 0.8968 - val_loss: 148757280.0000 - val_AUC: 0.5000\n",
            "Epoch 83/150\n",
            "8646/8646 [==============================] - 35s 4ms/step - loss: 0.2706 - AUC: 0.8966 - val_loss: 123750760.0000 - val_AUC: 0.5000\n",
            "Epoch 84/150\n",
            "8646/8646 [==============================] - 35s 4ms/step - loss: 0.2728 - AUC: 0.8953 - val_loss: 251438864.0000 - val_AUC: 0.5000\n",
            "Epoch 85/150\n",
            "8646/8646 [==============================] - 35s 4ms/step - loss: 0.2700 - AUC: 0.8973 - val_loss: 253731968.0000 - val_AUC: 0.5000\n",
            "Epoch 86/150\n",
            "8646/8646 [==============================] - 35s 4ms/step - loss: 0.2692 - AUC: 0.8967 - val_loss: 72069976.0000 - val_AUC: 0.5000\n",
            "Epoch 87/150\n",
            "8646/8646 [==============================] - 35s 4ms/step - loss: 0.2711 - AUC: 0.8959 - val_loss: 185050048.0000 - val_AUC: 0.5000\n",
            "Epoch 88/150\n",
            "8646/8646 [==============================] - 35s 4ms/step - loss: 0.2699 - AUC: 0.8964 - val_loss: 123532384.0000 - val_AUC: 0.5000\n",
            "Epoch 89/150\n",
            "8646/8646 [==============================] - 35s 4ms/step - loss: 0.2702 - AUC: 0.8968 - val_loss: 75491032.0000 - val_AUC: 0.5000\n",
            "Epoch 90/150\n",
            "8646/8646 [==============================] - 35s 4ms/step - loss: 0.2688 - AUC: 0.8982 - val_loss: 60666144.0000 - val_AUC: 0.5000\n",
            "Epoch 91/150\n",
            "8646/8646 [==============================] - 35s 4ms/step - loss: 0.2707 - AUC: 0.8967 - val_loss: 92817584.0000 - val_AUC: 0.5000\n",
            "Epoch 92/150\n",
            "8646/8646 [==============================] - 35s 4ms/step - loss: 0.2692 - AUC: 0.8971 - val_loss: 71136672.0000 - val_AUC: 0.5000\n",
            "Epoch 93/150\n",
            "8646/8646 [==============================] - 35s 4ms/step - loss: 0.2700 - AUC: 0.8969 - val_loss: 114943032.0000 - val_AUC: 0.5000\n",
            "Epoch 94/150\n",
            "8646/8646 [==============================] - 35s 4ms/step - loss: 0.2696 - AUC: 0.8971 - val_loss: 125642504.0000 - val_AUC: 0.5000\n",
            "Epoch 95/150\n",
            "8646/8646 [==============================] - 35s 4ms/step - loss: 0.2700 - AUC: 0.8958 - val_loss: 154595856.0000 - val_AUC: 0.5000\n",
            "Epoch 96/150\n",
            "8646/8646 [==============================] - 35s 4ms/step - loss: 0.2708 - AUC: 0.8953 - val_loss: 82278608.0000 - val_AUC: 0.5000\n",
            "Epoch 97/150\n",
            "8646/8646 [==============================] - 35s 4ms/step - loss: 0.2702 - AUC: 0.8961 - val_loss: 43083444.0000 - val_AUC: 0.5000\n",
            "Epoch 98/150\n",
            "8646/8646 [==============================] - 35s 4ms/step - loss: 0.2717 - AUC: 0.8969 - val_loss: 136042240.0000 - val_AUC: 0.5000\n",
            "Epoch 99/150\n",
            "8646/8646 [==============================] - 35s 4ms/step - loss: 0.2704 - AUC: 0.8967 - val_loss: 63942576.0000 - val_AUC: 0.5000\n",
            "Epoch 100/150\n",
            "8646/8646 [==============================] - 36s 4ms/step - loss: 0.2704 - AUC: 0.8973 - val_loss: 90906344.0000 - val_AUC: 0.5000\n",
            "Epoch 101/150\n",
            "8646/8646 [==============================] - 35s 4ms/step - loss: 0.2708 - AUC: 0.8955 - val_loss: 377744864.0000 - val_AUC: 0.5000\n",
            "Epoch 102/150\n",
            "8646/8646 [==============================] - 35s 4ms/step - loss: 0.2694 - AUC: 0.8979 - val_loss: 796988864.0000 - val_AUC: 0.5000\n",
            "Epoch 103/150\n",
            "8646/8646 [==============================] - 36s 4ms/step - loss: 0.2699 - AUC: 0.8975 - val_loss: 227370800.0000 - val_AUC: 0.5000\n",
            "Epoch 104/150\n",
            "8646/8646 [==============================] - 36s 4ms/step - loss: 0.2703 - AUC: 0.8965 - val_loss: 59952492.0000 - val_AUC: 0.5000\n",
            "Epoch 105/150\n",
            "8646/8646 [==============================] - 35s 4ms/step - loss: 0.2708 - AUC: 0.8963 - val_loss: 89774176.0000 - val_AUC: 0.5000\n",
            "Epoch 106/150\n",
            "8646/8646 [==============================] - 36s 4ms/step - loss: 0.2693 - AUC: 0.8982 - val_loss: 155862240.0000 - val_AUC: 0.5000\n",
            "Epoch 107/150\n",
            "8646/8646 [==============================] - 36s 4ms/step - loss: 0.2711 - AUC: 0.8963 - val_loss: 105160520.0000 - val_AUC: 0.5000\n",
            "Epoch 108/150\n",
            "8646/8646 [==============================] - 35s 4ms/step - loss: 0.2712 - AUC: 0.8957 - val_loss: 125199536.0000 - val_AUC: 0.5000\n",
            "Epoch 109/150\n",
            "8646/8646 [==============================] - 35s 4ms/step - loss: 0.2709 - AUC: 0.8963 - val_loss: 56712172.0000 - val_AUC: 0.5000\n",
            "Epoch 110/150\n",
            "8646/8646 [==============================] - 35s 4ms/step - loss: 0.2686 - AUC: 0.8978 - val_loss: 234555648.0000 - val_AUC: 0.5000\n",
            "Epoch 111/150\n",
            "8646/8646 [==============================] - 36s 4ms/step - loss: 0.2693 - AUC: 0.8967 - val_loss: 119792752.0000 - val_AUC: 0.5000\n",
            "Epoch 112/150\n",
            "8646/8646 [==============================] - 36s 4ms/step - loss: 0.2697 - AUC: 0.8973 - val_loss: 264749760.0000 - val_AUC: 0.5000\n",
            "Epoch 113/150\n",
            "8646/8646 [==============================] - 35s 4ms/step - loss: 0.2714 - AUC: 0.8972 - val_loss: 23638528.0000 - val_AUC: 0.5000\n",
            "Epoch 114/150\n",
            "8646/8646 [==============================] - 35s 4ms/step - loss: 0.2694 - AUC: 0.8968 - val_loss: 567393152.0000 - val_AUC: 0.5000\n",
            "Epoch 115/150\n",
            "8646/8646 [==============================] - 36s 4ms/step - loss: 0.2701 - AUC: 0.8960 - val_loss: 1757565056.0000 - val_AUC: 0.5000\n",
            "Epoch 116/150\n",
            "8646/8646 [==============================] - 35s 4ms/step - loss: 0.2706 - AUC: 0.8963 - val_loss: 70750528.0000 - val_AUC: 0.5000\n",
            "Epoch 117/150\n",
            "8646/8646 [==============================] - 35s 4ms/step - loss: 0.2705 - AUC: 0.8965 - val_loss: 89757768.0000 - val_AUC: 0.5000\n",
            "Epoch 118/150\n",
            "8646/8646 [==============================] - 36s 4ms/step - loss: 0.2713 - AUC: 0.8966 - val_loss: 84886384.0000 - val_AUC: 0.5000\n",
            "Epoch 119/150\n",
            "8646/8646 [==============================] - 37s 4ms/step - loss: 0.2690 - AUC: 0.8980 - val_loss: 345523648.0000 - val_AUC: 0.5000\n",
            "Epoch 120/150\n",
            "8646/8646 [==============================] - 35s 4ms/step - loss: 0.2694 - AUC: 0.8971 - val_loss: 276498816.0000 - val_AUC: 0.5000\n",
            "Epoch 121/150\n",
            "8646/8646 [==============================] - 36s 4ms/step - loss: 0.2693 - AUC: 0.8970 - val_loss: 248202560.0000 - val_AUC: 0.5000\n",
            "Epoch 122/150\n",
            "8646/8646 [==============================] - 36s 4ms/step - loss: 0.2693 - AUC: 0.8974 - val_loss: 44231344.0000 - val_AUC: 0.5000\n",
            "Epoch 123/150\n",
            "8646/8646 [==============================] - 35s 4ms/step - loss: 0.2697 - AUC: 0.8973 - val_loss: 99656152.0000 - val_AUC: 0.5000\n",
            "Epoch 124/150\n",
            "8646/8646 [==============================] - 35s 4ms/step - loss: 0.2707 - AUC: 0.8963 - val_loss: 60288268.0000 - val_AUC: 0.5000\n",
            "Epoch 125/150\n",
            "8646/8646 [==============================] - 36s 4ms/step - loss: 0.2688 - AUC: 0.8979 - val_loss: 70894416.0000 - val_AUC: 0.5002\n",
            "Epoch 126/150\n",
            "8646/8646 [==============================] - 35s 4ms/step - loss: 0.2676 - AUC: 0.8988 - val_loss: 31567822.0000 - val_AUC: 0.5000\n",
            "Epoch 127/150\n",
            "8646/8646 [==============================] - 36s 4ms/step - loss: 0.2689 - AUC: 0.8962 - val_loss: 36607592.0000 - val_AUC: 0.5000\n",
            "Epoch 128/150\n",
            "8646/8646 [==============================] - 36s 4ms/step - loss: 0.2714 - AUC: 0.8958 - val_loss: 632162688.0000 - val_AUC: 0.5000\n",
            "Epoch 129/150\n",
            "8646/8646 [==============================] - 36s 4ms/step - loss: 0.2697 - AUC: 0.8966 - val_loss: 22194208.0000 - val_AUC: 0.4790\n",
            "Epoch 130/150\n",
            "8646/8646 [==============================] - 36s 4ms/step - loss: 0.2690 - AUC: 0.8972 - val_loss: 675275264.0000 - val_AUC: 0.5000\n",
            "Epoch 131/150\n",
            "8646/8646 [==============================] - 36s 4ms/step - loss: 0.2692 - AUC: 0.8975 - val_loss: 127094632.0000 - val_AUC: 0.5000\n",
            "Epoch 132/150\n",
            "8646/8646 [==============================] - 36s 4ms/step - loss: 0.2716 - AUC: 0.8952 - val_loss: 1054839808.0000 - val_AUC: 0.5000\n",
            "Epoch 133/150\n",
            "8646/8646 [==============================] - 36s 4ms/step - loss: 0.2697 - AUC: 0.8973 - val_loss: 160887840.0000 - val_AUC: 0.5000\n",
            "Epoch 134/150\n",
            "8646/8646 [==============================] - 36s 4ms/step - loss: 0.2686 - AUC: 0.8980 - val_loss: 46073856.0000 - val_AUC: 0.5000\n",
            "Epoch 135/150\n",
            "8646/8646 [==============================] - 36s 4ms/step - loss: 0.2698 - AUC: 0.8976 - val_loss: 364511712.0000 - val_AUC: 0.5000\n",
            "Epoch 136/150\n",
            "8646/8646 [==============================] - 37s 4ms/step - loss: 0.2717 - AUC: 0.8959 - val_loss: 1084788352.0000 - val_AUC: 0.5000\n",
            "Epoch 137/150\n",
            "8646/8646 [==============================] - 36s 4ms/step - loss: 0.2695 - AUC: 0.8967 - val_loss: 301780320.0000 - val_AUC: 0.5000\n",
            "Epoch 138/150\n",
            "8646/8646 [==============================] - 36s 4ms/step - loss: 0.2693 - AUC: 0.8976 - val_loss: 655085888.0000 - val_AUC: 0.5000\n",
            "Epoch 139/150\n",
            "8646/8646 [==============================] - 36s 4ms/step - loss: 0.2706 - AUC: 0.8965 - val_loss: 400873728.0000 - val_AUC: 0.5000\n",
            "Epoch 140/150\n",
            "8646/8646 [==============================] - 36s 4ms/step - loss: 0.2699 - AUC: 0.8967 - val_loss: 911317760.0000 - val_AUC: 0.5000\n",
            "Epoch 141/150\n",
            "8646/8646 [==============================] - 36s 4ms/step - loss: 0.2705 - AUC: 0.8966 - val_loss: 440343232.0000 - val_AUC: 0.5000\n",
            "Epoch 142/150\n",
            "8646/8646 [==============================] - 36s 4ms/step - loss: 0.2711 - AUC: 0.8962 - val_loss: 299314720.0000 - val_AUC: 0.5000\n",
            "Epoch 143/150\n",
            "8646/8646 [==============================] - 36s 4ms/step - loss: 0.2716 - AUC: 0.8969 - val_loss: 85955976.0000 - val_AUC: 0.5000\n",
            "Epoch 144/150\n",
            "8646/8646 [==============================] - 36s 4ms/step - loss: 0.2694 - AUC: 0.8966 - val_loss: 81644320.0000 - val_AUC: 0.5000\n",
            "Epoch 145/150\n",
            "8646/8646 [==============================] - 36s 4ms/step - loss: 0.2704 - AUC: 0.8964 - val_loss: 72533816.0000 - val_AUC: 0.5000\n",
            "Epoch 146/150\n",
            "8646/8646 [==============================] - 36s 4ms/step - loss: 0.2694 - AUC: 0.8969 - val_loss: 32657360.0000 - val_AUC: 0.5000\n",
            "Epoch 147/150\n",
            "8646/8646 [==============================] - 36s 4ms/step - loss: 0.2715 - AUC: 0.8971 - val_loss: 36484516.0000 - val_AUC: 0.5000\n",
            "Epoch 148/150\n",
            "8646/8646 [==============================] - 36s 4ms/step - loss: 0.2699 - AUC: 0.8962 - val_loss: 8137216.5000 - val_AUC: 0.5000\n",
            "Epoch 149/150\n",
            "8646/8646 [==============================] - 36s 4ms/step - loss: 0.2699 - AUC: 0.8976 - val_loss: 33223444.0000 - val_AUC: 0.5000\n",
            "Epoch 150/150\n",
            "8646/8646 [==============================] - 36s 4ms/step - loss: 0.2686 - AUC: 0.8983 - val_loss: 9719471.0000 - val_AUC: 0.5000\n"
          ],
          "name": "stdout"
        }
      ]
    },
    {
      "cell_type": "code",
      "metadata": {
        "id": "n2IVs-kz6YR5"
      },
      "source": [
        ""
      ],
      "execution_count": null,
      "outputs": []
    }
  ]
}